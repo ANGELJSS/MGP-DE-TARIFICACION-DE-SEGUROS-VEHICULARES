{
  "nbformat": 4,
  "nbformat_minor": 0,
  "metadata": {
    "colab": {
      "provenance": []
    },
    "kernelspec": {
      "name": "python3",
      "display_name": "Python 3"
    },
    "language_info": {
      "name": "python"
    },
    "widgets": {
      "application/vnd.jupyter.widget-state+json": {
        "77be235dfd5c4b56977aea3105d7ec97": {
          "model_module": "@jupyter-widgets/controls",
          "model_name": "HBoxModel",
          "model_module_version": "1.5.0",
          "state": {
            "_dom_classes": [],
            "_model_module": "@jupyter-widgets/controls",
            "_model_module_version": "1.5.0",
            "_model_name": "HBoxModel",
            "_view_count": null,
            "_view_module": "@jupyter-widgets/controls",
            "_view_module_version": "1.5.0",
            "_view_name": "HBoxView",
            "box_style": "",
            "children": [
              "IPY_MODEL_5a4cf9188db14e1db2d58f8c5d8543c6",
              "IPY_MODEL_127b6020cf404e73b04bb0c8955d4e84",
              "IPY_MODEL_a237cf3a2cfb43bf9b9887abcac5e3a5"
            ],
            "layout": "IPY_MODEL_b46f6def6d2b4659aea7a8f53b88405c"
          }
        },
        "5a4cf9188db14e1db2d58f8c5d8543c6": {
          "model_module": "@jupyter-widgets/controls",
          "model_name": "HTMLModel",
          "model_module_version": "1.5.0",
          "state": {
            "_dom_classes": [],
            "_model_module": "@jupyter-widgets/controls",
            "_model_module_version": "1.5.0",
            "_model_name": "HTMLModel",
            "_view_count": null,
            "_view_module": "@jupyter-widgets/controls",
            "_view_module_version": "1.5.0",
            "_view_name": "HTMLView",
            "description": "",
            "description_tooltip": null,
            "layout": "IPY_MODEL_e9358c41075b429ba1fd083b27ad69e2",
            "placeholder": "​",
            "style": "IPY_MODEL_02526aeb4831477db8200124c9295089",
            "value": "Building tree: 100%"
          }
        },
        "127b6020cf404e73b04bb0c8955d4e84": {
          "model_module": "@jupyter-widgets/controls",
          "model_name": "FloatProgressModel",
          "model_module_version": "1.5.0",
          "state": {
            "_dom_classes": [],
            "_model_module": "@jupyter-widgets/controls",
            "_model_module_version": "1.5.0",
            "_model_name": "FloatProgressModel",
            "_view_count": null,
            "_view_module": "@jupyter-widgets/controls",
            "_view_module_version": "1.5.0",
            "_view_name": "ProgressView",
            "bar_style": "success",
            "description": "",
            "description_tooltip": null,
            "layout": "IPY_MODEL_65578436e86e4ff3b9f7d38e4c9c70c5",
            "max": 36,
            "min": 0,
            "orientation": "horizontal",
            "style": "IPY_MODEL_97647a8c83d448a2bc0b53b92a6a763a",
            "value": 36
          }
        },
        "a237cf3a2cfb43bf9b9887abcac5e3a5": {
          "model_module": "@jupyter-widgets/controls",
          "model_name": "HTMLModel",
          "model_module_version": "1.5.0",
          "state": {
            "_dom_classes": [],
            "_model_module": "@jupyter-widgets/controls",
            "_model_module_version": "1.5.0",
            "_model_name": "HTMLModel",
            "_view_count": null,
            "_view_module": "@jupyter-widgets/controls",
            "_view_module_version": "1.5.0",
            "_view_name": "HTMLView",
            "description": "",
            "description_tooltip": null,
            "layout": "IPY_MODEL_0601530ce03442d3b90bcb22a6ebde90",
            "placeholder": "​",
            "style": "IPY_MODEL_38fcb4036c324e8585c9ca9548e1c70c",
            "value": " 36/36.0 [00:03&lt;00:00, 12.17it/s]"
          }
        },
        "b46f6def6d2b4659aea7a8f53b88405c": {
          "model_module": "@jupyter-widgets/base",
          "model_name": "LayoutModel",
          "model_module_version": "1.2.0",
          "state": {
            "_model_module": "@jupyter-widgets/base",
            "_model_module_version": "1.2.0",
            "_model_name": "LayoutModel",
            "_view_count": null,
            "_view_module": "@jupyter-widgets/base",
            "_view_module_version": "1.2.0",
            "_view_name": "LayoutView",
            "align_content": null,
            "align_items": null,
            "align_self": null,
            "border": null,
            "bottom": null,
            "display": null,
            "flex": null,
            "flex_flow": null,
            "grid_area": null,
            "grid_auto_columns": null,
            "grid_auto_flow": null,
            "grid_auto_rows": null,
            "grid_column": null,
            "grid_gap": null,
            "grid_row": null,
            "grid_template_areas": null,
            "grid_template_columns": null,
            "grid_template_rows": null,
            "height": null,
            "justify_content": null,
            "justify_items": null,
            "left": null,
            "margin": null,
            "max_height": null,
            "max_width": null,
            "min_height": null,
            "min_width": null,
            "object_fit": null,
            "object_position": null,
            "order": null,
            "overflow": null,
            "overflow_x": null,
            "overflow_y": null,
            "padding": null,
            "right": null,
            "top": null,
            "visibility": null,
            "width": null
          }
        },
        "e9358c41075b429ba1fd083b27ad69e2": {
          "model_module": "@jupyter-widgets/base",
          "model_name": "LayoutModel",
          "model_module_version": "1.2.0",
          "state": {
            "_model_module": "@jupyter-widgets/base",
            "_model_module_version": "1.2.0",
            "_model_name": "LayoutModel",
            "_view_count": null,
            "_view_module": "@jupyter-widgets/base",
            "_view_module_version": "1.2.0",
            "_view_name": "LayoutView",
            "align_content": null,
            "align_items": null,
            "align_self": null,
            "border": null,
            "bottom": null,
            "display": null,
            "flex": null,
            "flex_flow": null,
            "grid_area": null,
            "grid_auto_columns": null,
            "grid_auto_flow": null,
            "grid_auto_rows": null,
            "grid_column": null,
            "grid_gap": null,
            "grid_row": null,
            "grid_template_areas": null,
            "grid_template_columns": null,
            "grid_template_rows": null,
            "height": null,
            "justify_content": null,
            "justify_items": null,
            "left": null,
            "margin": null,
            "max_height": null,
            "max_width": null,
            "min_height": null,
            "min_width": null,
            "object_fit": null,
            "object_position": null,
            "order": null,
            "overflow": null,
            "overflow_x": null,
            "overflow_y": null,
            "padding": null,
            "right": null,
            "top": null,
            "visibility": null,
            "width": null
          }
        },
        "02526aeb4831477db8200124c9295089": {
          "model_module": "@jupyter-widgets/controls",
          "model_name": "DescriptionStyleModel",
          "model_module_version": "1.5.0",
          "state": {
            "_model_module": "@jupyter-widgets/controls",
            "_model_module_version": "1.5.0",
            "_model_name": "DescriptionStyleModel",
            "_view_count": null,
            "_view_module": "@jupyter-widgets/base",
            "_view_module_version": "1.2.0",
            "_view_name": "StyleView",
            "description_width": ""
          }
        },
        "65578436e86e4ff3b9f7d38e4c9c70c5": {
          "model_module": "@jupyter-widgets/base",
          "model_name": "LayoutModel",
          "model_module_version": "1.2.0",
          "state": {
            "_model_module": "@jupyter-widgets/base",
            "_model_module_version": "1.2.0",
            "_model_name": "LayoutModel",
            "_view_count": null,
            "_view_module": "@jupyter-widgets/base",
            "_view_module_version": "1.2.0",
            "_view_name": "LayoutView",
            "align_content": null,
            "align_items": null,
            "align_self": null,
            "border": null,
            "bottom": null,
            "display": null,
            "flex": null,
            "flex_flow": null,
            "grid_area": null,
            "grid_auto_columns": null,
            "grid_auto_flow": null,
            "grid_auto_rows": null,
            "grid_column": null,
            "grid_gap": null,
            "grid_row": null,
            "grid_template_areas": null,
            "grid_template_columns": null,
            "grid_template_rows": null,
            "height": null,
            "justify_content": null,
            "justify_items": null,
            "left": null,
            "margin": null,
            "max_height": null,
            "max_width": null,
            "min_height": null,
            "min_width": null,
            "object_fit": null,
            "object_position": null,
            "order": null,
            "overflow": null,
            "overflow_x": null,
            "overflow_y": null,
            "padding": null,
            "right": null,
            "top": null,
            "visibility": null,
            "width": null
          }
        },
        "97647a8c83d448a2bc0b53b92a6a763a": {
          "model_module": "@jupyter-widgets/controls",
          "model_name": "ProgressStyleModel",
          "model_module_version": "1.5.0",
          "state": {
            "_model_module": "@jupyter-widgets/controls",
            "_model_module_version": "1.5.0",
            "_model_name": "ProgressStyleModel",
            "_view_count": null,
            "_view_module": "@jupyter-widgets/base",
            "_view_module_version": "1.2.0",
            "_view_name": "StyleView",
            "bar_color": null,
            "description_width": ""
          }
        },
        "0601530ce03442d3b90bcb22a6ebde90": {
          "model_module": "@jupyter-widgets/base",
          "model_name": "LayoutModel",
          "model_module_version": "1.2.0",
          "state": {
            "_model_module": "@jupyter-widgets/base",
            "_model_module_version": "1.2.0",
            "_model_name": "LayoutModel",
            "_view_count": null,
            "_view_module": "@jupyter-widgets/base",
            "_view_module_version": "1.2.0",
            "_view_name": "LayoutView",
            "align_content": null,
            "align_items": null,
            "align_self": null,
            "border": null,
            "bottom": null,
            "display": null,
            "flex": null,
            "flex_flow": null,
            "grid_area": null,
            "grid_auto_columns": null,
            "grid_auto_flow": null,
            "grid_auto_rows": null,
            "grid_column": null,
            "grid_gap": null,
            "grid_row": null,
            "grid_template_areas": null,
            "grid_template_columns": null,
            "grid_template_rows": null,
            "height": null,
            "justify_content": null,
            "justify_items": null,
            "left": null,
            "margin": null,
            "max_height": null,
            "max_width": null,
            "min_height": null,
            "min_width": null,
            "object_fit": null,
            "object_position": null,
            "order": null,
            "overflow": null,
            "overflow_x": null,
            "overflow_y": null,
            "padding": null,
            "right": null,
            "top": null,
            "visibility": null,
            "width": null
          }
        },
        "38fcb4036c324e8585c9ca9548e1c70c": {
          "model_module": "@jupyter-widgets/controls",
          "model_name": "DescriptionStyleModel",
          "model_module_version": "1.5.0",
          "state": {
            "_model_module": "@jupyter-widgets/controls",
            "_model_module_version": "1.5.0",
            "_model_name": "DescriptionStyleModel",
            "_view_count": null,
            "_view_module": "@jupyter-widgets/base",
            "_view_module_version": "1.2.0",
            "_view_name": "StyleView",
            "description_width": ""
          }
        }
      }
    }
  },
  "cells": [
    {
      "cell_type": "code",
      "execution_count": 48,
      "metadata": {
        "colab": {
          "base_uri": "https://localhost:8080/"
        },
        "id": "wFkcv9nyq2ui",
        "outputId": "1f2b4f42-32d0-40ba-a610-518b76421c7c"
      },
      "outputs": [
        {
          "output_type": "stream",
          "name": "stdout",
          "text": [
            "Looking in indexes: https://pypi.org/simple, https://us-python.pkg.dev/colab-wheels/public/simple/\n",
            "Requirement already satisfied: pgmpy in /usr/local/lib/python3.10/dist-packages (0.1.22)\n",
            "Requirement already satisfied: networkx in /usr/local/lib/python3.10/dist-packages (from pgmpy) (3.1)\n",
            "Requirement already satisfied: numpy in /usr/local/lib/python3.10/dist-packages (from pgmpy) (1.22.4)\n",
            "Requirement already satisfied: scipy in /usr/local/lib/python3.10/dist-packages (from pgmpy) (1.10.1)\n",
            "Requirement already satisfied: scikit-learn in /usr/local/lib/python3.10/dist-packages (from pgmpy) (1.2.2)\n",
            "Requirement already satisfied: pandas in /usr/local/lib/python3.10/dist-packages (from pgmpy) (1.5.3)\n",
            "Requirement already satisfied: pyparsing in /usr/local/lib/python3.10/dist-packages (from pgmpy) (3.1.0)\n",
            "Requirement already satisfied: torch in /usr/local/lib/python3.10/dist-packages (from pgmpy) (2.0.1+cu118)\n",
            "Requirement already satisfied: statsmodels in /usr/local/lib/python3.10/dist-packages (from pgmpy) (0.13.5)\n",
            "Requirement already satisfied: tqdm in /usr/local/lib/python3.10/dist-packages (from pgmpy) (4.65.0)\n",
            "Requirement already satisfied: joblib in /usr/local/lib/python3.10/dist-packages (from pgmpy) (1.2.0)\n",
            "Requirement already satisfied: opt-einsum in /usr/local/lib/python3.10/dist-packages (from pgmpy) (3.3.0)\n",
            "Requirement already satisfied: python-dateutil>=2.8.1 in /usr/local/lib/python3.10/dist-packages (from pandas->pgmpy) (2.8.2)\n",
            "Requirement already satisfied: pytz>=2020.1 in /usr/local/lib/python3.10/dist-packages (from pandas->pgmpy) (2022.7.1)\n",
            "Requirement already satisfied: threadpoolctl>=2.0.0 in /usr/local/lib/python3.10/dist-packages (from scikit-learn->pgmpy) (3.1.0)\n",
            "Requirement already satisfied: patsy>=0.5.2 in /usr/local/lib/python3.10/dist-packages (from statsmodels->pgmpy) (0.5.3)\n",
            "Requirement already satisfied: packaging>=21.3 in /usr/local/lib/python3.10/dist-packages (from statsmodels->pgmpy) (23.1)\n",
            "Requirement already satisfied: filelock in /usr/local/lib/python3.10/dist-packages (from torch->pgmpy) (3.12.2)\n",
            "Requirement already satisfied: typing-extensions in /usr/local/lib/python3.10/dist-packages (from torch->pgmpy) (4.6.3)\n",
            "Requirement already satisfied: sympy in /usr/local/lib/python3.10/dist-packages (from torch->pgmpy) (1.11.1)\n",
            "Requirement already satisfied: jinja2 in /usr/local/lib/python3.10/dist-packages (from torch->pgmpy) (3.1.2)\n",
            "Requirement already satisfied: triton==2.0.0 in /usr/local/lib/python3.10/dist-packages (from torch->pgmpy) (2.0.0)\n",
            "Requirement already satisfied: cmake in /usr/local/lib/python3.10/dist-packages (from triton==2.0.0->torch->pgmpy) (3.25.2)\n",
            "Requirement already satisfied: lit in /usr/local/lib/python3.10/dist-packages (from triton==2.0.0->torch->pgmpy) (16.0.6)\n",
            "Requirement already satisfied: six in /usr/local/lib/python3.10/dist-packages (from patsy>=0.5.2->statsmodels->pgmpy) (1.16.0)\n",
            "Requirement already satisfied: MarkupSafe>=2.0 in /usr/local/lib/python3.10/dist-packages (from jinja2->torch->pgmpy) (2.1.3)\n",
            "Requirement already satisfied: mpmath>=0.19 in /usr/local/lib/python3.10/dist-packages (from sympy->torch->pgmpy) (1.3.0)\n"
          ]
        }
      ],
      "source": [
        "!pip install pgmpy"
      ]
    },
    {
      "cell_type": "code",
      "source": [
        "from IPython.display import Image\n",
        "\n",
        "from pgmpy.models import BayesianNetwork\n",
        "from pgmpy.factors.discrete import TabularCPD\n",
        "from pgmpy.estimators import MaximumLikelihoodEstimator\n",
        "from pgmpy.estimators import BayesianEstimator\n",
        "\n",
        "import pandas as pd\n",
        "import numpy as np\n",
        "\n",
        "import os\n",
        "import random\n",
        "import warnings\n",
        "import networkx as nx\n",
        "from scipy.io import arff\n",
        "import matplotlib.pyplot as plt\n",
        "import pgmpy.estimators as ests\n",
        "from pgmpy.estimators import TreeSearch\n",
        "from pgmpy.metrics import structure_score\n",
        "from sklearn.metrics import accuracy_score\n",
        "from pgmpy.inference import BeliefPropagation\n",
        "from sklearn.metrics import mean_squared_error\n",
        "from sklearn.preprocessing import MinMaxScaler\n",
        "from pgmpy.inference import VariableElimination\n",
        "from sklearn.model_selection import train_test_split\n",
        "from sklearn.feature_selection import SelectKBest, chi2\n",
        "import matplotlib.pyplot as plt\n",
        "\n",
        "%matplotlib inline\n",
        "\n"
      ],
      "metadata": {
        "id": "irWHuQ0QitpB"
      },
      "execution_count": 49,
      "outputs": []
    },
    {
      "cell_type": "code",
      "source": [
        "#Image(filename='modelo.png')"
      ],
      "metadata": {
        "id": "X-Nmv94FiwVg"
      },
      "execution_count": 50,
      "outputs": []
    },
    {
      "cell_type": "markdown",
      "source": [
        "# Parte 1 : Definicion Manual"
      ],
      "metadata": {
        "id": "lMlvDgHixns5"
      }
    },
    {
      "cell_type": "code",
      "source": [
        "# Definir el modelo Bayesian Network\n",
        "model = BayesianNetwork([('CLIENTE', 'SINIESTROS'),('USO_VEHICULO','INFRACCIONES'),('INFRACCIONES','PRIMA_TECNICA'),('SINIESTROS','PRIMA_TECNICA'),('CATEGORIA_VEHICULO','PRIMA_TECNICA'),('GENERO','EDAD_CONDUCTOR'),('EDAD_CONDUCTOR','PRIMA_TECNICA'),('RIESGO_UBICACION','PRIMA_TECNICA')])\n"
      ],
      "metadata": {
        "id": "J5FK0Jg7tsLP"
      },
      "execution_count": 131,
      "outputs": []
    },
    {
      "cell_type": "code",
      "source": [
        "\n",
        "# Definir las distribuciones de probabilidad condicional (CPDs)\n",
        "cpd_cliente = TabularCPD('CLIENTE', 2, [[0.3], [0.7]],state_names={'CLIENTE': ['NUEVO', 'ANTIGUO']})\n",
        "cpd_siniestros = TabularCPD('SINIESTROS', 2, [[0, 0.3], [1, 0.7]], evidence=['CLIENTE'], evidence_card=[2],state_names={'SINIESTROS': ['SI', 'NO'], 'CLIENTE': ['NUEVO', 'ANTIGUO']})\n",
        "cpd_uso_vehiculo = TabularCPD('USO_VEHICULO', 2, [[0.6], [0.4]],state_names={'USO_VEHICULO': ['PARTICULAR', 'COMERCIAL']})\n",
        "cpd_infracciones = TabularCPD('INFRACCIONES', 2, [[0.3, 0.1], [0.7, 0.9]], evidence=['USO_VEHICULO'], evidence_card=[2],state_names={'INFRACCIONES': ['NO', 'SI'], 'USO_VEHICULO': ['PARTICULAR', 'COMERCIAL']})\n",
        "cpd_riesgo_ubicacion = TabularCPD('RIESGO_UBICACION', 2, [[0.55], [0.45]],state_names={'RIESGO_UBICACION': ['ALTO', 'BAJO']})\n",
        "cpd_genero = TabularCPD('GENERO',2, [[0.6],[0.4]],state_names={'GENERO': ['MASCULINO', 'FEMENINO']})\n",
        "cpd_edad_conductor = TabularCPD('EDAD_CONDUCTOR',2,[[0.09,0.10],[0.91,0.90]],evidence =['GENERO'], evidence_card = [2],state_names={'EDAD_CONDUCTOR': ['JOVEN', 'ADULTO'],'GENERO': ['MASCULINO', 'FEMENINO']})\n",
        "cpd_categoria_vehiculo = TabularCPD('CATEGORIA_VEHICULO',2,[[0.3],[0.7]],state_names={'CATEGORIA_VEHICULO': ['GAMA ALTA', 'GAMA BAJA']})\n",
        "cpd_prima_tecnica = TabularCPD('PRIMA_TECNICA',2,[[0.6,0.6,0.5,0.5,0.6,0.6,0.5,0.5,0.4,0.3,0.8,0.9,0.5,0.4,0.8,0.9,0.3,0.4,0.4,0.5,0.3,0.4,0.4,0.5,0.6,0.7,0.2,0.2,0.6,0.6,0.2,0.2],\n",
        "                                                 [0.4,0.4,0.5,0.5,0.4,0.4,0.5,0.5,0.6,0.7,0.2,0.1,0.5,0.6,0.2,0.1,0.7,0.6,0.6,0.5,0.7,0.6,0.6,0.5,0.4,0.3,0.8,0.8,0.4,0.4,0.8,0.8]\n",
        "                                                  ],\n",
        "                               evidence = ['SINIESTROS','CATEGORIA_VEHICULO','INFRACCIONES','EDAD_CONDUCTOR','RIESGO_UBICACION'],\n",
        "                               evidence_card = [2,2,2,2,2],\n",
        "                               state_names={'PRIMA_TECNICA': ['ALTO', 'BAJO'],\n",
        "                                            'SINIESTROS': ['SI', 'NO'],\n",
        "                                            'CATEGORIA_VEHICULO': ['GAMA ALTA', 'GAMA BAJA'],\n",
        "                                            'INFRACCIONES': ['NO', 'SI'],\n",
        "                                            'EDAD_CONDUCTOR': ['JOVEN', 'ADULTO'],\n",
        "                                            'RIESGO_UBICACION': ['ALTO', 'BAJO']})\n"
      ],
      "metadata": {
        "id": "hDoyOi-Qi-g5"
      },
      "execution_count": 132,
      "outputs": []
    },
    {
      "cell_type": "code",
      "source": [
        "\n",
        "# Asociar las CPDs al modelo\n",
        "model.add_cpds(cpd_cliente, cpd_siniestros,cpd_uso_vehiculo,cpd_infracciones,cpd_prima_tecnica,cpd_riesgo_ubicacion,cpd_genero,cpd_edad_conductor,cpd_categoria_vehiculo)"
      ],
      "metadata": {
        "id": "rEkW8zVdi_UH"
      },
      "execution_count": 133,
      "outputs": []
    },
    {
      "cell_type": "code",
      "source": [
        "model.check_model()"
      ],
      "metadata": {
        "colab": {
          "base_uri": "https://localhost:8080/"
        },
        "id": "9RTdZihwddAN",
        "outputId": "4b1b341f-5f51-4e03-e218-fddfbfa49e51"
      },
      "execution_count": 134,
      "outputs": [
        {
          "output_type": "execute_result",
          "data": {
            "text/plain": [
              "True"
            ]
          },
          "metadata": {},
          "execution_count": 134
        }
      ]
    },
    {
      "cell_type": "code",
      "source": [
        "print(model.get_cpds('CLIENTE'))"
      ],
      "metadata": {
        "colab": {
          "base_uri": "https://localhost:8080/"
        },
        "id": "P93BOiZ6eAbv",
        "outputId": "b461c959-46b9-48d8-c0f6-1768ab54a63e"
      },
      "execution_count": 135,
      "outputs": [
        {
          "output_type": "stream",
          "name": "stdout",
          "text": [
            "+------------------+-----+\n",
            "| CLIENTE(NUEVO)   | 0.3 |\n",
            "+------------------+-----+\n",
            "| CLIENTE(ANTIGUO) | 0.7 |\n",
            "+------------------+-----+\n"
          ]
        }
      ]
    },
    {
      "cell_type": "code",
      "source": [
        "print(model.get_cpds('USO_VEHICULO'))"
      ],
      "metadata": {
        "colab": {
          "base_uri": "https://localhost:8080/"
        },
        "id": "nr52ptezgdpb",
        "outputId": "e6b15bc7-157c-4ead-f8ac-b66a9d27922e"
      },
      "execution_count": 136,
      "outputs": [
        {
          "output_type": "stream",
          "name": "stdout",
          "text": [
            "+--------------------------+-----+\n",
            "| USO_VEHICULO(PARTICULAR) | 0.6 |\n",
            "+--------------------------+-----+\n",
            "| USO_VEHICULO(COMERCIAL)  | 0.4 |\n",
            "+--------------------------+-----+\n"
          ]
        }
      ]
    },
    {
      "cell_type": "code",
      "source": [
        "print(model.get_cpds('RIESGO_UBICACION'))"
      ],
      "metadata": {
        "colab": {
          "base_uri": "https://localhost:8080/"
        },
        "id": "5ulpG7aZgWT1",
        "outputId": "f9f9c8b6-f72e-4977-8e4a-9ccf344c6137"
      },
      "execution_count": 137,
      "outputs": [
        {
          "output_type": "stream",
          "name": "stdout",
          "text": [
            "+------------------------+------+\n",
            "| RIESGO_UBICACION(ALTO) | 0.55 |\n",
            "+------------------------+------+\n",
            "| RIESGO_UBICACION(BAJO) | 0.45 |\n",
            "+------------------------+------+\n"
          ]
        }
      ]
    },
    {
      "cell_type": "code",
      "source": [
        "print(model.get_cpds('GENERO'))"
      ],
      "metadata": {
        "colab": {
          "base_uri": "https://localhost:8080/"
        },
        "id": "fFY15MXedgqB",
        "outputId": "06ac65d0-a95f-4f02-f728-cfa4f6bbcd14"
      },
      "execution_count": 138,
      "outputs": [
        {
          "output_type": "stream",
          "name": "stdout",
          "text": [
            "+-------------------+-----+\n",
            "| GENERO(MASCULINO) | 0.6 |\n",
            "+-------------------+-----+\n",
            "| GENERO(FEMENINO)  | 0.4 |\n",
            "+-------------------+-----+\n"
          ]
        }
      ]
    },
    {
      "cell_type": "code",
      "source": [
        "print(model.get_cpds('CATEGORIA_VEHICULO'))"
      ],
      "metadata": {
        "colab": {
          "base_uri": "https://localhost:8080/"
        },
        "id": "ly7j027qgQMf",
        "outputId": "6ee2a60f-69f4-46b7-d0ad-8020a0966699"
      },
      "execution_count": 139,
      "outputs": [
        {
          "output_type": "stream",
          "name": "stdout",
          "text": [
            "+-------------------------------+-----+\n",
            "| CATEGORIA_VEHICULO(GAMA ALTA) | 0.3 |\n",
            "+-------------------------------+-----+\n",
            "| CATEGORIA_VEHICULO(GAMA BAJA) | 0.7 |\n",
            "+-------------------------------+-----+\n"
          ]
        }
      ]
    },
    {
      "cell_type": "code",
      "source": [
        "print(model.get_cpds('SINIESTROS'))"
      ],
      "metadata": {
        "colab": {
          "base_uri": "https://localhost:8080/"
        },
        "id": "G4vs8wuUdrVE",
        "outputId": "32e1fb8d-3f49-4573-b5bb-1aa28902238c"
      },
      "execution_count": 140,
      "outputs": [
        {
          "output_type": "stream",
          "name": "stdout",
          "text": [
            "+----------------+----------------+------------------+\n",
            "| CLIENTE        | CLIENTE(NUEVO) | CLIENTE(ANTIGUO) |\n",
            "+----------------+----------------+------------------+\n",
            "| SINIESTROS(SI) | 0.0            | 0.3              |\n",
            "+----------------+----------------+------------------+\n",
            "| SINIESTROS(NO) | 1.0            | 0.7              |\n",
            "+----------------+----------------+------------------+\n"
          ]
        }
      ]
    },
    {
      "cell_type": "code",
      "source": [
        "print(model.get_cpds('EDAD_CONDUCTOR'))"
      ],
      "metadata": {
        "colab": {
          "base_uri": "https://localhost:8080/"
        },
        "id": "lIxnrDd5d9bP",
        "outputId": "8e00df54-d211-4269-ddce-391a8730f364"
      },
      "execution_count": 141,
      "outputs": [
        {
          "output_type": "stream",
          "name": "stdout",
          "text": [
            "+------------------------+-------------------+------------------+\n",
            "| GENERO                 | GENERO(MASCULINO) | GENERO(FEMENINO) |\n",
            "+------------------------+-------------------+------------------+\n",
            "| EDAD_CONDUCTOR(JOVEN)  | 0.09              | 0.1              |\n",
            "+------------------------+-------------------+------------------+\n",
            "| EDAD_CONDUCTOR(ADULTO) | 0.91              | 0.9              |\n",
            "+------------------------+-------------------+------------------+\n"
          ]
        }
      ]
    },
    {
      "cell_type": "code",
      "source": [
        "print(model.get_cpds('INFRACCIONES'))"
      ],
      "metadata": {
        "colab": {
          "base_uri": "https://localhost:8080/"
        },
        "id": "OqXs4QvCgS1G",
        "outputId": "961b8189-716a-4007-b13e-b76be9216c4c"
      },
      "execution_count": 142,
      "outputs": [
        {
          "output_type": "stream",
          "name": "stdout",
          "text": [
            "+------------------+--------------------------+-------------------------+\n",
            "| USO_VEHICULO     | USO_VEHICULO(PARTICULAR) | USO_VEHICULO(COMERCIAL) |\n",
            "+------------------+--------------------------+-------------------------+\n",
            "| INFRACCIONES(NO) | 0.3                      | 0.1                     |\n",
            "+------------------+--------------------------+-------------------------+\n",
            "| INFRACCIONES(SI) | 0.7                      | 0.9                     |\n",
            "+------------------+--------------------------+-------------------------+\n"
          ]
        }
      ]
    },
    {
      "cell_type": "code",
      "source": [
        "print(model.get_cpds('PRIMA_TECNICA')) #.values[1][0][1][0][1])"
      ],
      "metadata": {
        "colab": {
          "base_uri": "https://localhost:8080/"
        },
        "id": "oQ39nN5Ogel9",
        "outputId": "587170ae-be52-4a9b-b89f-ac3ae67ccae8"
      },
      "execution_count": 143,
      "outputs": [
        {
          "output_type": "stream",
          "name": "stdout",
          "text": [
            "+---------------------+-----+-------------------------------+\n",
            "| SINIESTROS          | ... | SINIESTROS(NO)                |\n",
            "+---------------------+-----+-------------------------------+\n",
            "| CATEGORIA_VEHICULO  | ... | CATEGORIA_VEHICULO(GAMA BAJA) |\n",
            "+---------------------+-----+-------------------------------+\n",
            "| INFRACCIONES        | ... | INFRACCIONES(SI)              |\n",
            "+---------------------+-----+-------------------------------+\n",
            "| EDAD_CONDUCTOR      | ... | EDAD_CONDUCTOR(ADULTO)        |\n",
            "+---------------------+-----+-------------------------------+\n",
            "| RIESGO_UBICACION    | ... | RIESGO_UBICACION(BAJO)        |\n",
            "+---------------------+-----+-------------------------------+\n",
            "| PRIMA_TECNICA(ALTO) | ... | 0.2                           |\n",
            "+---------------------+-----+-------------------------------+\n",
            "| PRIMA_TECNICA(BAJO) | ... | 0.8                           |\n",
            "+---------------------+-----+-------------------------------+\n"
          ]
        }
      ]
    },
    {
      "cell_type": "markdown",
      "source": [
        "# Inferencias"
      ],
      "metadata": {
        "id": "ff1b_ISWuB70"
      }
    },
    {
      "cell_type": "code",
      "source": [
        "infer = VariableElimination(model)"
      ],
      "metadata": {
        "id": "vzzm59Lot8ym"
      },
      "execution_count": 147,
      "outputs": []
    },
    {
      "cell_type": "code",
      "source": [
        "#Cual es la probabilidad de que un adulto mujer tenga un vehiculo de alta gama\n",
        "q = infer.query(variables=[\"CATEGORIA_VEHICULO\"], evidence={\"GENERO\": 'FEMENINO',\"EDAD_CONDUCTOR\": 'ADULTO' })\n",
        "print(q)"
      ],
      "metadata": {
        "colab": {
          "base_uri": "https://localhost:8080/"
        },
        "id": "Hw9e1Q-lt9Im",
        "outputId": "50b00a6e-8851-424c-e618-d7997806f68b"
      },
      "execution_count": 148,
      "outputs": [
        {
          "output_type": "stream",
          "name": "stdout",
          "text": [
            "+-------------------------------+---------------------------+\n",
            "| CATEGORIA_VEHICULO            |   phi(CATEGORIA_VEHICULO) |\n",
            "+===============================+===========================+\n",
            "| CATEGORIA_VEHICULO(GAMA ALTA) |                    0.3000 |\n",
            "+-------------------------------+---------------------------+\n",
            "| CATEGORIA_VEHICULO(GAMA BAJA) |                    0.7000 |\n",
            "+-------------------------------+---------------------------+\n"
          ]
        }
      ]
    },
    {
      "cell_type": "code",
      "source": [
        "#Cual es la probabilidad de que los hombres jovenes tengan alta cantidad de infracciones?\n",
        "q = infer.query(variables=[\"INFRACCIONES\"], evidence={\"GENERO\": 'MASCULINO', \"EDAD_CONDUCTOR\": 'JOVEN'})\n",
        "print(q)"
      ],
      "metadata": {
        "colab": {
          "base_uri": "https://localhost:8080/"
        },
        "id": "bBD7Oh_Et9LF",
        "outputId": "185308d5-89db-49a2-f915-e60accd94448"
      },
      "execution_count": 149,
      "outputs": [
        {
          "output_type": "stream",
          "name": "stdout",
          "text": [
            "+------------------+---------------------+\n",
            "| INFRACCIONES     |   phi(INFRACCIONES) |\n",
            "+==================+=====================+\n",
            "| INFRACCIONES(NO) |              0.2200 |\n",
            "+------------------+---------------------+\n",
            "| INFRACCIONES(SI) |              0.7800 |\n",
            "+------------------+---------------------+\n"
          ]
        }
      ]
    },
    {
      "cell_type": "code",
      "source": [
        "#Cual es la probabilidad de que una persona con edad adulta viva en un lugar de bajos riesgos?\n",
        "q = infer.query(variables=[\"RIESGO_UBICACION\"], evidence={\"EDAD_CONDUCTOR\": 'ADULTO'})\n",
        "print(q)"
      ],
      "metadata": {
        "colab": {
          "base_uri": "https://localhost:8080/"
        },
        "id": "k6lUrckNt9NW",
        "outputId": "faa421da-42ba-4a01-c2f1-9b3eb04a2517"
      },
      "execution_count": 150,
      "outputs": [
        {
          "output_type": "stream",
          "name": "stdout",
          "text": [
            "+------------------------+-------------------------+\n",
            "| RIESGO_UBICACION       |   phi(RIESGO_UBICACION) |\n",
            "+========================+=========================+\n",
            "| RIESGO_UBICACION(ALTO) |                  0.5500 |\n",
            "+------------------------+-------------------------+\n",
            "| RIESGO_UBICACION(BAJO) |                  0.4500 |\n",
            "+------------------------+-------------------------+\n"
          ]
        }
      ]
    },
    {
      "cell_type": "code",
      "source": [
        "#Cual es la probabilidad de que las mujeres adultas no tengan siniestros anteriores?\n",
        "q = infer.query(variables=[\"SINIESTROS\"], evidence={\"GENERO\": 'FEMENINO',\"EDAD_CONDUCTOR\": 'ADULTO'} )\n",
        "print(q)"
      ],
      "metadata": {
        "colab": {
          "base_uri": "https://localhost:8080/"
        },
        "id": "NRO9W_aQt9Pz",
        "outputId": "9a79c058-a2d7-4fdd-ba16-debfa2e62110"
      },
      "execution_count": 151,
      "outputs": [
        {
          "output_type": "stream",
          "name": "stdout",
          "text": [
            "+----------------+-------------------+\n",
            "| SINIESTROS     |   phi(SINIESTROS) |\n",
            "+================+===================+\n",
            "| SINIESTROS(SI) |            0.2100 |\n",
            "+----------------+-------------------+\n",
            "| SINIESTROS(NO) |            0.7900 |\n",
            "+----------------+-------------------+\n"
          ]
        }
      ]
    },
    {
      "cell_type": "code",
      "source": [
        "#Cual es la probabilidad de tener clientes jovenes nuevos?\n",
        "q = infer.query(variables=[\"EDAD_CONDUCTOR\"] )\n",
        "print(q)"
      ],
      "metadata": {
        "colab": {
          "base_uri": "https://localhost:8080/"
        },
        "id": "hoPT7FLtt9ek",
        "outputId": "c83bf2a4-fdf7-4964-e2bb-2029b6350509"
      },
      "execution_count": 152,
      "outputs": [
        {
          "output_type": "stream",
          "name": "stdout",
          "text": [
            "+------------------------+-----------------------+\n",
            "| EDAD_CONDUCTOR         |   phi(EDAD_CONDUCTOR) |\n",
            "+========================+=======================+\n",
            "| EDAD_CONDUCTOR(JOVEN)  |                0.0940 |\n",
            "+------------------------+-----------------------+\n",
            "| EDAD_CONDUCTOR(ADULTO) |                0.9060 |\n",
            "+------------------------+-----------------------+\n"
          ]
        }
      ]
    },
    {
      "cell_type": "markdown",
      "source": [
        "# Carga de la data de Seguros Vehiculares"
      ],
      "metadata": {
        "id": "ILQ4m2xNw6bL"
      }
    },
    {
      "cell_type": "code",
      "source": [
        "df_pre = pd.read_excel('SEGUROS VEHICULARES.xlsx')"
      ],
      "metadata": {
        "id": "AGw1qziNpJM7"
      },
      "execution_count": 153,
      "outputs": []
    },
    {
      "cell_type": "code",
      "source": [
        "df=df_pre"
      ],
      "metadata": {
        "id": "2OyM7gWYkxTR"
      },
      "execution_count": 154,
      "outputs": []
    },
    {
      "cell_type": "code",
      "source": [
        "df.head()"
      ],
      "metadata": {
        "colab": {
          "base_uri": "https://localhost:8080/",
          "height": 206
        },
        "id": "6Ho_rIQHpOEG",
        "outputId": "7dbba396-8cbc-4f52-b100-1bfdb817e129"
      },
      "execution_count": 155,
      "outputs": [
        {
          "output_type": "execute_result",
          "data": {
            "text/plain": [
              "   CATEGORIA_VEHICULO  NIVEL_EDUCACION  INGREOS_ASEGURADO  FLAG_CLIENTE_NUEVO  \\\n",
              "0                   0              NaN                NaN                   0   \n",
              "1                   0              NaN                NaN                   1   \n",
              "2                   0              NaN                NaN                   1   \n",
              "3                   0              NaN                NaN                   0   \n",
              "4                   0              NaN                NaN                   0   \n",
              "\n",
              "  USO_VEHICULO  FLAG_SINIESTROS_ANTERIORES  Q_INFRACCIONES GENERO_ASEGURADO  \\\n",
              "0   PARTICULAR                           0             NaN        NO APLICA   \n",
              "1   PARTICULAR                           0             NaN        MASCULINO   \n",
              "2   PARTICULAR                           0             NaN        MASCULINO   \n",
              "3   PARTICULAR                           0             NaN        MASCULINO   \n",
              "4   PARTICULAR                           1             1.0        MASCULINO   \n",
              "\n",
              "   EDAD_ASEGURADO UBICACIÓN    PRIMA  \n",
              "0            32.0        D2   374.07  \n",
              "1            49.0        L2   752.91  \n",
              "2            28.0        L1   566.40  \n",
              "3            49.0        L7  1659.54  \n",
              "4            44.0        D4   471.76  "
            ],
            "text/html": [
              "\n",
              "  <div id=\"df-6740b76c-1063-4453-b5b5-c0921669e44b\">\n",
              "    <div class=\"colab-df-container\">\n",
              "      <div>\n",
              "<style scoped>\n",
              "    .dataframe tbody tr th:only-of-type {\n",
              "        vertical-align: middle;\n",
              "    }\n",
              "\n",
              "    .dataframe tbody tr th {\n",
              "        vertical-align: top;\n",
              "    }\n",
              "\n",
              "    .dataframe thead th {\n",
              "        text-align: right;\n",
              "    }\n",
              "</style>\n",
              "<table border=\"1\" class=\"dataframe\">\n",
              "  <thead>\n",
              "    <tr style=\"text-align: right;\">\n",
              "      <th></th>\n",
              "      <th>CATEGORIA_VEHICULO</th>\n",
              "      <th>NIVEL_EDUCACION</th>\n",
              "      <th>INGREOS_ASEGURADO</th>\n",
              "      <th>FLAG_CLIENTE_NUEVO</th>\n",
              "      <th>USO_VEHICULO</th>\n",
              "      <th>FLAG_SINIESTROS_ANTERIORES</th>\n",
              "      <th>Q_INFRACCIONES</th>\n",
              "      <th>GENERO_ASEGURADO</th>\n",
              "      <th>EDAD_ASEGURADO</th>\n",
              "      <th>UBICACIÓN</th>\n",
              "      <th>PRIMA</th>\n",
              "    </tr>\n",
              "  </thead>\n",
              "  <tbody>\n",
              "    <tr>\n",
              "      <th>0</th>\n",
              "      <td>0</td>\n",
              "      <td>NaN</td>\n",
              "      <td>NaN</td>\n",
              "      <td>0</td>\n",
              "      <td>PARTICULAR</td>\n",
              "      <td>0</td>\n",
              "      <td>NaN</td>\n",
              "      <td>NO APLICA</td>\n",
              "      <td>32.0</td>\n",
              "      <td>D2</td>\n",
              "      <td>374.07</td>\n",
              "    </tr>\n",
              "    <tr>\n",
              "      <th>1</th>\n",
              "      <td>0</td>\n",
              "      <td>NaN</td>\n",
              "      <td>NaN</td>\n",
              "      <td>1</td>\n",
              "      <td>PARTICULAR</td>\n",
              "      <td>0</td>\n",
              "      <td>NaN</td>\n",
              "      <td>MASCULINO</td>\n",
              "      <td>49.0</td>\n",
              "      <td>L2</td>\n",
              "      <td>752.91</td>\n",
              "    </tr>\n",
              "    <tr>\n",
              "      <th>2</th>\n",
              "      <td>0</td>\n",
              "      <td>NaN</td>\n",
              "      <td>NaN</td>\n",
              "      <td>1</td>\n",
              "      <td>PARTICULAR</td>\n",
              "      <td>0</td>\n",
              "      <td>NaN</td>\n",
              "      <td>MASCULINO</td>\n",
              "      <td>28.0</td>\n",
              "      <td>L1</td>\n",
              "      <td>566.40</td>\n",
              "    </tr>\n",
              "    <tr>\n",
              "      <th>3</th>\n",
              "      <td>0</td>\n",
              "      <td>NaN</td>\n",
              "      <td>NaN</td>\n",
              "      <td>0</td>\n",
              "      <td>PARTICULAR</td>\n",
              "      <td>0</td>\n",
              "      <td>NaN</td>\n",
              "      <td>MASCULINO</td>\n",
              "      <td>49.0</td>\n",
              "      <td>L7</td>\n",
              "      <td>1659.54</td>\n",
              "    </tr>\n",
              "    <tr>\n",
              "      <th>4</th>\n",
              "      <td>0</td>\n",
              "      <td>NaN</td>\n",
              "      <td>NaN</td>\n",
              "      <td>0</td>\n",
              "      <td>PARTICULAR</td>\n",
              "      <td>1</td>\n",
              "      <td>1.0</td>\n",
              "      <td>MASCULINO</td>\n",
              "      <td>44.0</td>\n",
              "      <td>D4</td>\n",
              "      <td>471.76</td>\n",
              "    </tr>\n",
              "  </tbody>\n",
              "</table>\n",
              "</div>\n",
              "      <button class=\"colab-df-convert\" onclick=\"convertToInteractive('df-6740b76c-1063-4453-b5b5-c0921669e44b')\"\n",
              "              title=\"Convert this dataframe to an interactive table.\"\n",
              "              style=\"display:none;\">\n",
              "        \n",
              "  <svg xmlns=\"http://www.w3.org/2000/svg\" height=\"24px\"viewBox=\"0 0 24 24\"\n",
              "       width=\"24px\">\n",
              "    <path d=\"M0 0h24v24H0V0z\" fill=\"none\"/>\n",
              "    <path d=\"M18.56 5.44l.94 2.06.94-2.06 2.06-.94-2.06-.94-.94-2.06-.94 2.06-2.06.94zm-11 1L8.5 8.5l.94-2.06 2.06-.94-2.06-.94L8.5 2.5l-.94 2.06-2.06.94zm10 10l.94 2.06.94-2.06 2.06-.94-2.06-.94-.94-2.06-.94 2.06-2.06.94z\"/><path d=\"M17.41 7.96l-1.37-1.37c-.4-.4-.92-.59-1.43-.59-.52 0-1.04.2-1.43.59L10.3 9.45l-7.72 7.72c-.78.78-.78 2.05 0 2.83L4 21.41c.39.39.9.59 1.41.59.51 0 1.02-.2 1.41-.59l7.78-7.78 2.81-2.81c.8-.78.8-2.07 0-2.86zM5.41 20L4 18.59l7.72-7.72 1.47 1.35L5.41 20z\"/>\n",
              "  </svg>\n",
              "      </button>\n",
              "      \n",
              "  <style>\n",
              "    .colab-df-container {\n",
              "      display:flex;\n",
              "      flex-wrap:wrap;\n",
              "      gap: 12px;\n",
              "    }\n",
              "\n",
              "    .colab-df-convert {\n",
              "      background-color: #E8F0FE;\n",
              "      border: none;\n",
              "      border-radius: 50%;\n",
              "      cursor: pointer;\n",
              "      display: none;\n",
              "      fill: #1967D2;\n",
              "      height: 32px;\n",
              "      padding: 0 0 0 0;\n",
              "      width: 32px;\n",
              "    }\n",
              "\n",
              "    .colab-df-convert:hover {\n",
              "      background-color: #E2EBFA;\n",
              "      box-shadow: 0px 1px 2px rgba(60, 64, 67, 0.3), 0px 1px 3px 1px rgba(60, 64, 67, 0.15);\n",
              "      fill: #174EA6;\n",
              "    }\n",
              "\n",
              "    [theme=dark] .colab-df-convert {\n",
              "      background-color: #3B4455;\n",
              "      fill: #D2E3FC;\n",
              "    }\n",
              "\n",
              "    [theme=dark] .colab-df-convert:hover {\n",
              "      background-color: #434B5C;\n",
              "      box-shadow: 0px 1px 3px 1px rgba(0, 0, 0, 0.15);\n",
              "      filter: drop-shadow(0px 1px 2px rgba(0, 0, 0, 0.3));\n",
              "      fill: #FFFFFF;\n",
              "    }\n",
              "  </style>\n",
              "\n",
              "      <script>\n",
              "        const buttonEl =\n",
              "          document.querySelector('#df-6740b76c-1063-4453-b5b5-c0921669e44b button.colab-df-convert');\n",
              "        buttonEl.style.display =\n",
              "          google.colab.kernel.accessAllowed ? 'block' : 'none';\n",
              "\n",
              "        async function convertToInteractive(key) {\n",
              "          const element = document.querySelector('#df-6740b76c-1063-4453-b5b5-c0921669e44b');\n",
              "          const dataTable =\n",
              "            await google.colab.kernel.invokeFunction('convertToInteractive',\n",
              "                                                     [key], {});\n",
              "          if (!dataTable) return;\n",
              "\n",
              "          const docLinkHtml = 'Like what you see? Visit the ' +\n",
              "            '<a target=\"_blank\" href=https://colab.research.google.com/notebooks/data_table.ipynb>data table notebook</a>'\n",
              "            + ' to learn more about interactive tables.';\n",
              "          element.innerHTML = '';\n",
              "          dataTable['output_type'] = 'display_data';\n",
              "          await google.colab.output.renderOutput(dataTable, element);\n",
              "          const docLink = document.createElement('div');\n",
              "          docLink.innerHTML = docLinkHtml;\n",
              "          element.appendChild(docLink);\n",
              "        }\n",
              "      </script>\n",
              "    </div>\n",
              "  </div>\n",
              "  "
            ]
          },
          "metadata": {},
          "execution_count": 155
        }
      ]
    },
    {
      "cell_type": "code",
      "source": [
        "df.info()"
      ],
      "metadata": {
        "colab": {
          "base_uri": "https://localhost:8080/"
        },
        "id": "mdT0TLqiunGc",
        "outputId": "d09f4d98-36b2-4bec-c75e-9c5a0780505f"
      },
      "execution_count": 156,
      "outputs": [
        {
          "output_type": "stream",
          "name": "stdout",
          "text": [
            "<class 'pandas.core.frame.DataFrame'>\n",
            "RangeIndex: 737002 entries, 0 to 737001\n",
            "Data columns (total 11 columns):\n",
            " #   Column                      Non-Null Count   Dtype  \n",
            "---  ------                      --------------   -----  \n",
            " 0   CATEGORIA_VEHICULO          737002 non-null  int64  \n",
            " 1   NIVEL_EDUCACION             0 non-null       float64\n",
            " 2   INGREOS_ASEGURADO           0 non-null       float64\n",
            " 3   FLAG_CLIENTE_NUEVO          737002 non-null  int64  \n",
            " 4   USO_VEHICULO                736997 non-null  object \n",
            " 5   FLAG_SINIESTROS_ANTERIORES  737002 non-null  int64  \n",
            " 6   Q_INFRACCIONES              121751 non-null  float64\n",
            " 7   GENERO_ASEGURADO            736828 non-null  object \n",
            " 8   EDAD_ASEGURADO              736828 non-null  float64\n",
            " 9   UBICACIÓN                   736828 non-null  object \n",
            " 10  PRIMA                       737002 non-null  float64\n",
            "dtypes: float64(5), int64(3), object(3)\n",
            "memory usage: 61.9+ MB\n"
          ]
        }
      ]
    },
    {
      "cell_type": "code",
      "source": [
        "df= df.drop(['NIVEL_EDUCACION', 'INGREOS_ASEGURADO'], axis=1)"
      ],
      "metadata": {
        "id": "et1f_nHrqgCR"
      },
      "execution_count": 157,
      "outputs": []
    },
    {
      "cell_type": "code",
      "source": [
        "df.rename(columns={'FLAG_CLIENTE_NUEVO': 'CLIENTE',\n",
        "                   'FLAG_SINIESTROS_ANTERIORES': 'SINIESTROS',\n",
        "                   'GENERO_ASEGURADO': 'GENERO' ,\n",
        "                   'EDAD_ASEGURADO':'EDAD_CONDUCTOR',\n",
        "                   'UBICACIÓN':'RIESGO_UBICACION',\n",
        "                   'Q_INFRACCIONES': 'INFRACCIONES',\n",
        "                   'PRIMA': 'PRIMA_TECNICA'}, inplace=True)\n"
      ],
      "metadata": {
        "id": "X9NCpomyqtus"
      },
      "execution_count": 158,
      "outputs": []
    },
    {
      "cell_type": "code",
      "source": [
        "for columna in df.columns:\n",
        "    valores_unicos = df[columna].unique()\n",
        "    print(f\"Valores únicos de la columna '{columna}':\")\n",
        "    print(valores_unicos)\n",
        "    print()"
      ],
      "metadata": {
        "colab": {
          "base_uri": "https://localhost:8080/"
        },
        "id": "hoEbeRi4s0gE",
        "outputId": "15fd21a6-33b4-425b-d6fc-c436a29be196"
      },
      "execution_count": 159,
      "outputs": [
        {
          "output_type": "stream",
          "name": "stdout",
          "text": [
            "Valores únicos de la columna 'CATEGORIA_VEHICULO':\n",
            "[0 1]\n",
            "\n",
            "Valores únicos de la columna 'CLIENTE':\n",
            "[0 1]\n",
            "\n",
            "Valores únicos de la columna 'USO_VEHICULO':\n",
            "['PARTICULAR' 'COMERCIAL' 'PUBLICO URBANO' 'CARGA' 'TURISMO' 'ALQUILER'\n",
            " 'TAXI' 'POLICIAL' 'AMBULANCIA' nan 'OTRO' 'PUBLICO NACIONAL']\n",
            "\n",
            "Valores únicos de la columna 'SINIESTROS':\n",
            "[0 1]\n",
            "\n",
            "Valores únicos de la columna 'INFRACCIONES':\n",
            "[nan  1.  3.  2.  4.  5.  6.  8.  7.]\n",
            "\n",
            "Valores únicos de la columna 'GENERO':\n",
            "['NO APLICA' 'MASCULINO' 'FEMENINO' nan]\n",
            "\n",
            "Valores únicos de la columna 'EDAD_CONDUCTOR':\n",
            "[ 32.  49.  28.  44.  48.  40.  69.  45.  54.  41.  57.  64.  74.  39.\n",
            "  43.  53.  61.  27.  46.  50.  37.  71.  51.  66.  33.  35.  63.  42.\n",
            "  60.  77.  36.  73.  34.  76.  29.  67.  38.  68.  47.  56.  62.  31.\n",
            "  59.  58.  23.  24.  70.  30.  52.  55.  75.  72.  21.  25.  81.  nan\n",
            "  65.  26.  79.  84.  83.  87.  22.  78.  88.  20.  86.  80.  85.  19.\n",
            "  82.  92.  18.  93.   0.  90.  89.  91.  96.   4.   3.  95. 114.  94.\n",
            " 115.  17. 100.  15.  13.  10.  16.   9.   6.   8. 104.   2.  97.   1.\n",
            "   7. 116. 101.  98.  99.  11.  12.  14. 103.  -1. 113.   5. 119. 121.\n",
            " 102. 120. 117.]\n",
            "\n",
            "Valores únicos de la columna 'RIESGO_UBICACION':\n",
            "['D2' 'L2' 'L1' 'L7' 'D4' 'L3' 'D1' 'L4' 'D3' 'L6' 'D5' 'L5' nan 'BRAZIL']\n",
            "\n",
            "Valores únicos de la columna 'PRIMA_TECNICA':\n",
            "[ 374.07  752.91  566.4  ... 1648.73 1282.25 1417.42]\n",
            "\n"
          ]
        }
      ]
    },
    {
      "cell_type": "code",
      "source": [
        "df['CATEGORIA_VEHICULO'].replace({0: 'GAMA ALTA', 1: 'GAMA BAJA'}, inplace=True)"
      ],
      "metadata": {
        "id": "ruTyxSAis8Vl"
      },
      "execution_count": 160,
      "outputs": []
    },
    {
      "cell_type": "code",
      "source": [
        "df['CLIENTE'].replace({0: 'NUEVO', 1: 'ANTIGUO'}, inplace=True)"
      ],
      "metadata": {
        "id": "PjyusYARvqQ2"
      },
      "execution_count": 161,
      "outputs": []
    },
    {
      "cell_type": "code",
      "source": [
        "filtro = (df['USO_VEHICULO'] == 'PARTICULAR') | (df['USO_VEHICULO'] == 'COMERCIAL')\n",
        "df = df[filtro]"
      ],
      "metadata": {
        "id": "Ia3WPxDPvvGk"
      },
      "execution_count": 162,
      "outputs": []
    },
    {
      "cell_type": "code",
      "source": [
        "df['SINIESTROS'].replace({0: 'SI', 1: 'NO'}, inplace=True)"
      ],
      "metadata": {
        "id": "32SdaQjXvxw7"
      },
      "execution_count": 163,
      "outputs": []
    },
    {
      "cell_type": "code",
      "source": [
        "df['INFRACCIONES'] = df['INFRACCIONES'].fillna('NO')\n",
        "df['INFRACCIONES'] = df['INFRACCIONES'].map(lambda x: 'SI' if isinstance(x, (int, float)) else x)"
      ],
      "metadata": {
        "id": "aAIM5yWgv-3k"
      },
      "execution_count": 164,
      "outputs": []
    },
    {
      "cell_type": "code",
      "source": [
        "filtro = (df['GENERO'] == 'FEMENINO') | (df['GENERO'] == 'MASCULINO')\n",
        "df = df[filtro]"
      ],
      "metadata": {
        "id": "Kj-YtcmbwU_9"
      },
      "execution_count": 165,
      "outputs": []
    },
    {
      "cell_type": "code",
      "source": [
        "df['EDAD_CONDUCTOR'] = np.where(df['EDAD_CONDUCTOR'] > 30, 'ADULTO', 'JOVEN')"
      ],
      "metadata": {
        "id": "p89N2zbswIhJ"
      },
      "execution_count": 166,
      "outputs": []
    },
    {
      "cell_type": "code",
      "source": [
        "df['RIESGO_UBICACION'].replace({'L1': 'ALTO', 'L2': 'ALTO','L3': 'BAJO', 'L4':'BAJO', 'L5':'ALTO', 'L6':'ALTO', 'L7': 'ALTO'}, inplace=True)\n",
        "filtro = (df['RIESGO_UBICACION'] == 'ALTO') | (df['RIESGO_UBICACION'] == 'BAJO')\n",
        "df = df[filtro]"
      ],
      "metadata": {
        "id": "XTPG6hCAwdnT"
      },
      "execution_count": 167,
      "outputs": []
    },
    {
      "cell_type": "code",
      "source": [
        "valores = ['BAJO', 'ALTO']\n",
        "#df['PRIMA_TECNICA'] = np.random.choice(valores, size=len(df))\n",
        "df['PRIMA_TECNICA'] = np.where(df['PRIMA_TECNICA'] > 580, 'ALTO', 'BAJO')\n"
      ],
      "metadata": {
        "id": "KnC44CVq4GCL"
      },
      "execution_count": 168,
      "outputs": []
    },
    {
      "cell_type": "markdown",
      "source": [
        "# Parte 2: Aprendizaje de Parámetros"
      ],
      "metadata": {
        "id": "pg3x9h5zbO6w"
      }
    },
    {
      "cell_type": "code",
      "source": [
        "for columna in df.columns:\n",
        "    valores_unicos = df[columna].unique()\n",
        "    print(f\"Valores únicos de la columna '{columna}':\")\n",
        "    print(valores_unicos)\n",
        "    print()"
      ],
      "metadata": {
        "colab": {
          "base_uri": "https://localhost:8080/"
        },
        "id": "OUcd_sNaxkeu",
        "outputId": "06abdb66-749d-4633-ec26-81d50c39d306"
      },
      "execution_count": 169,
      "outputs": [
        {
          "output_type": "stream",
          "name": "stdout",
          "text": [
            "Valores únicos de la columna 'CATEGORIA_VEHICULO':\n",
            "['GAMA ALTA' 'GAMA BAJA']\n",
            "\n",
            "Valores únicos de la columna 'CLIENTE':\n",
            "['ANTIGUO' 'NUEVO']\n",
            "\n",
            "Valores únicos de la columna 'USO_VEHICULO':\n",
            "['PARTICULAR' 'COMERCIAL']\n",
            "\n",
            "Valores únicos de la columna 'SINIESTROS':\n",
            "['SI' 'NO']\n",
            "\n",
            "Valores únicos de la columna 'INFRACCIONES':\n",
            "['NO' 'SI']\n",
            "\n",
            "Valores únicos de la columna 'GENERO':\n",
            "['MASCULINO' 'FEMENINO']\n",
            "\n",
            "Valores únicos de la columna 'EDAD_CONDUCTOR':\n",
            "['ADULTO' 'JOVEN']\n",
            "\n",
            "Valores únicos de la columna 'RIESGO_UBICACION':\n",
            "['ALTO' 'BAJO']\n",
            "\n",
            "Valores únicos de la columna 'PRIMA_TECNICA':\n",
            "['ALTO' 'BAJO']\n",
            "\n"
          ]
        }
      ]
    },
    {
      "cell_type": "code",
      "source": [
        "df.head()"
      ],
      "metadata": {
        "colab": {
          "base_uri": "https://localhost:8080/",
          "height": 206
        },
        "id": "t5MCqA3y4TXe",
        "outputId": "2d819afd-0b3b-4a7a-b0a5-f7b6e2e49bdb"
      },
      "execution_count": 170,
      "outputs": [
        {
          "output_type": "execute_result",
          "data": {
            "text/plain": [
              "  CATEGORIA_VEHICULO  CLIENTE USO_VEHICULO SINIESTROS INFRACCIONES     GENERO  \\\n",
              "1          GAMA ALTA  ANTIGUO   PARTICULAR         SI           NO  MASCULINO   \n",
              "2          GAMA ALTA  ANTIGUO   PARTICULAR         SI           NO  MASCULINO   \n",
              "3          GAMA ALTA    NUEVO   PARTICULAR         SI           NO  MASCULINO   \n",
              "5          GAMA ALTA  ANTIGUO   PARTICULAR         SI           NO   FEMENINO   \n",
              "8          GAMA ALTA    NUEVO   PARTICULAR         SI           NO  MASCULINO   \n",
              "\n",
              "  EDAD_CONDUCTOR RIESGO_UBICACION PRIMA_TECNICA  \n",
              "1         ADULTO             ALTO          ALTO  \n",
              "2          JOVEN             ALTO          BAJO  \n",
              "3         ADULTO             ALTO          ALTO  \n",
              "5         ADULTO             BAJO          BAJO  \n",
              "8         ADULTO             BAJO          BAJO  "
            ],
            "text/html": [
              "\n",
              "  <div id=\"df-d908b5c2-341a-4ad6-afe7-0e04d362867a\">\n",
              "    <div class=\"colab-df-container\">\n",
              "      <div>\n",
              "<style scoped>\n",
              "    .dataframe tbody tr th:only-of-type {\n",
              "        vertical-align: middle;\n",
              "    }\n",
              "\n",
              "    .dataframe tbody tr th {\n",
              "        vertical-align: top;\n",
              "    }\n",
              "\n",
              "    .dataframe thead th {\n",
              "        text-align: right;\n",
              "    }\n",
              "</style>\n",
              "<table border=\"1\" class=\"dataframe\">\n",
              "  <thead>\n",
              "    <tr style=\"text-align: right;\">\n",
              "      <th></th>\n",
              "      <th>CATEGORIA_VEHICULO</th>\n",
              "      <th>CLIENTE</th>\n",
              "      <th>USO_VEHICULO</th>\n",
              "      <th>SINIESTROS</th>\n",
              "      <th>INFRACCIONES</th>\n",
              "      <th>GENERO</th>\n",
              "      <th>EDAD_CONDUCTOR</th>\n",
              "      <th>RIESGO_UBICACION</th>\n",
              "      <th>PRIMA_TECNICA</th>\n",
              "    </tr>\n",
              "  </thead>\n",
              "  <tbody>\n",
              "    <tr>\n",
              "      <th>1</th>\n",
              "      <td>GAMA ALTA</td>\n",
              "      <td>ANTIGUO</td>\n",
              "      <td>PARTICULAR</td>\n",
              "      <td>SI</td>\n",
              "      <td>NO</td>\n",
              "      <td>MASCULINO</td>\n",
              "      <td>ADULTO</td>\n",
              "      <td>ALTO</td>\n",
              "      <td>ALTO</td>\n",
              "    </tr>\n",
              "    <tr>\n",
              "      <th>2</th>\n",
              "      <td>GAMA ALTA</td>\n",
              "      <td>ANTIGUO</td>\n",
              "      <td>PARTICULAR</td>\n",
              "      <td>SI</td>\n",
              "      <td>NO</td>\n",
              "      <td>MASCULINO</td>\n",
              "      <td>JOVEN</td>\n",
              "      <td>ALTO</td>\n",
              "      <td>BAJO</td>\n",
              "    </tr>\n",
              "    <tr>\n",
              "      <th>3</th>\n",
              "      <td>GAMA ALTA</td>\n",
              "      <td>NUEVO</td>\n",
              "      <td>PARTICULAR</td>\n",
              "      <td>SI</td>\n",
              "      <td>NO</td>\n",
              "      <td>MASCULINO</td>\n",
              "      <td>ADULTO</td>\n",
              "      <td>ALTO</td>\n",
              "      <td>ALTO</td>\n",
              "    </tr>\n",
              "    <tr>\n",
              "      <th>5</th>\n",
              "      <td>GAMA ALTA</td>\n",
              "      <td>ANTIGUO</td>\n",
              "      <td>PARTICULAR</td>\n",
              "      <td>SI</td>\n",
              "      <td>NO</td>\n",
              "      <td>FEMENINO</td>\n",
              "      <td>ADULTO</td>\n",
              "      <td>BAJO</td>\n",
              "      <td>BAJO</td>\n",
              "    </tr>\n",
              "    <tr>\n",
              "      <th>8</th>\n",
              "      <td>GAMA ALTA</td>\n",
              "      <td>NUEVO</td>\n",
              "      <td>PARTICULAR</td>\n",
              "      <td>SI</td>\n",
              "      <td>NO</td>\n",
              "      <td>MASCULINO</td>\n",
              "      <td>ADULTO</td>\n",
              "      <td>BAJO</td>\n",
              "      <td>BAJO</td>\n",
              "    </tr>\n",
              "  </tbody>\n",
              "</table>\n",
              "</div>\n",
              "      <button class=\"colab-df-convert\" onclick=\"convertToInteractive('df-d908b5c2-341a-4ad6-afe7-0e04d362867a')\"\n",
              "              title=\"Convert this dataframe to an interactive table.\"\n",
              "              style=\"display:none;\">\n",
              "        \n",
              "  <svg xmlns=\"http://www.w3.org/2000/svg\" height=\"24px\"viewBox=\"0 0 24 24\"\n",
              "       width=\"24px\">\n",
              "    <path d=\"M0 0h24v24H0V0z\" fill=\"none\"/>\n",
              "    <path d=\"M18.56 5.44l.94 2.06.94-2.06 2.06-.94-2.06-.94-.94-2.06-.94 2.06-2.06.94zm-11 1L8.5 8.5l.94-2.06 2.06-.94-2.06-.94L8.5 2.5l-.94 2.06-2.06.94zm10 10l.94 2.06.94-2.06 2.06-.94-2.06-.94-.94-2.06-.94 2.06-2.06.94z\"/><path d=\"M17.41 7.96l-1.37-1.37c-.4-.4-.92-.59-1.43-.59-.52 0-1.04.2-1.43.59L10.3 9.45l-7.72 7.72c-.78.78-.78 2.05 0 2.83L4 21.41c.39.39.9.59 1.41.59.51 0 1.02-.2 1.41-.59l7.78-7.78 2.81-2.81c.8-.78.8-2.07 0-2.86zM5.41 20L4 18.59l7.72-7.72 1.47 1.35L5.41 20z\"/>\n",
              "  </svg>\n",
              "      </button>\n",
              "      \n",
              "  <style>\n",
              "    .colab-df-container {\n",
              "      display:flex;\n",
              "      flex-wrap:wrap;\n",
              "      gap: 12px;\n",
              "    }\n",
              "\n",
              "    .colab-df-convert {\n",
              "      background-color: #E8F0FE;\n",
              "      border: none;\n",
              "      border-radius: 50%;\n",
              "      cursor: pointer;\n",
              "      display: none;\n",
              "      fill: #1967D2;\n",
              "      height: 32px;\n",
              "      padding: 0 0 0 0;\n",
              "      width: 32px;\n",
              "    }\n",
              "\n",
              "    .colab-df-convert:hover {\n",
              "      background-color: #E2EBFA;\n",
              "      box-shadow: 0px 1px 2px rgba(60, 64, 67, 0.3), 0px 1px 3px 1px rgba(60, 64, 67, 0.15);\n",
              "      fill: #174EA6;\n",
              "    }\n",
              "\n",
              "    [theme=dark] .colab-df-convert {\n",
              "      background-color: #3B4455;\n",
              "      fill: #D2E3FC;\n",
              "    }\n",
              "\n",
              "    [theme=dark] .colab-df-convert:hover {\n",
              "      background-color: #434B5C;\n",
              "      box-shadow: 0px 1px 3px 1px rgba(0, 0, 0, 0.15);\n",
              "      filter: drop-shadow(0px 1px 2px rgba(0, 0, 0, 0.3));\n",
              "      fill: #FFFFFF;\n",
              "    }\n",
              "  </style>\n",
              "\n",
              "      <script>\n",
              "        const buttonEl =\n",
              "          document.querySelector('#df-d908b5c2-341a-4ad6-afe7-0e04d362867a button.colab-df-convert');\n",
              "        buttonEl.style.display =\n",
              "          google.colab.kernel.accessAllowed ? 'block' : 'none';\n",
              "\n",
              "        async function convertToInteractive(key) {\n",
              "          const element = document.querySelector('#df-d908b5c2-341a-4ad6-afe7-0e04d362867a');\n",
              "          const dataTable =\n",
              "            await google.colab.kernel.invokeFunction('convertToInteractive',\n",
              "                                                     [key], {});\n",
              "          if (!dataTable) return;\n",
              "\n",
              "          const docLinkHtml = 'Like what you see? Visit the ' +\n",
              "            '<a target=\"_blank\" href=https://colab.research.google.com/notebooks/data_table.ipynb>data table notebook</a>'\n",
              "            + ' to learn more about interactive tables.';\n",
              "          element.innerHTML = '';\n",
              "          dataTable['output_type'] = 'display_data';\n",
              "          await google.colab.output.renderOutput(dataTable, element);\n",
              "          const docLink = document.createElement('div');\n",
              "          docLink.innerHTML = docLinkHtml;\n",
              "          element.appendChild(docLink);\n",
              "        }\n",
              "      </script>\n",
              "    </div>\n",
              "  </div>\n",
              "  "
            ]
          },
          "metadata": {},
          "execution_count": 170
        }
      ]
    },
    {
      "cell_type": "code",
      "source": [
        "df.isnull().sum(axis=0)"
      ],
      "metadata": {
        "colab": {
          "base_uri": "https://localhost:8080/"
        },
        "id": "VSMwGK7EqWfq",
        "outputId": "f8b91831-3e42-4c2d-e769-2be220482924"
      },
      "execution_count": 171,
      "outputs": [
        {
          "output_type": "execute_result",
          "data": {
            "text/plain": [
              "CATEGORIA_VEHICULO    0\n",
              "CLIENTE               0\n",
              "USO_VEHICULO          0\n",
              "SINIESTROS            0\n",
              "INFRACCIONES          0\n",
              "GENERO                0\n",
              "EDAD_CONDUCTOR        0\n",
              "RIESGO_UBICACION      0\n",
              "PRIMA_TECNICA         0\n",
              "dtype: int64"
            ]
          },
          "metadata": {},
          "execution_count": 171
        }
      ]
    },
    {
      "cell_type": "code",
      "source": [
        "mle = MaximumLikelihoodEstimator(model, df)"
      ],
      "metadata": {
        "id": "duuHWDXQ2_JF"
      },
      "execution_count": 172,
      "outputs": []
    },
    {
      "cell_type": "code",
      "source": [
        "print(mle.estimate_cpd('CLIENTE'))\n"
      ],
      "metadata": {
        "colab": {
          "base_uri": "https://localhost:8080/"
        },
        "id": "DEHeMIpm3DeJ",
        "outputId": "b25446c2-1dc0-42eb-95b8-aedc8349a0f8"
      },
      "execution_count": 173,
      "outputs": [
        {
          "output_type": "stream",
          "name": "stdout",
          "text": [
            "+------------------+----------+\n",
            "| CLIENTE(ANTIGUO) | 0.422999 |\n",
            "+------------------+----------+\n",
            "| CLIENTE(NUEVO)   | 0.577001 |\n",
            "+------------------+----------+\n"
          ]
        }
      ]
    },
    {
      "cell_type": "code",
      "source": [
        "print(mle.estimate_cpd('SINIESTROS'))\n"
      ],
      "metadata": {
        "colab": {
          "base_uri": "https://localhost:8080/"
        },
        "id": "Ohvq_cEV3GJZ",
        "outputId": "8701c5f0-1650-4bb2-8b77-43f7134397b8"
      },
      "execution_count": 174,
      "outputs": [
        {
          "output_type": "stream",
          "name": "stdout",
          "text": [
            "+----------------+---------------------+---------------------+\n",
            "| CLIENTE        | CLIENTE(ANTIGUO)    | CLIENTE(NUEVO)      |\n",
            "+----------------+---------------------+---------------------+\n",
            "| SINIESTROS(NO) | 0.18813923506660937 | 0.14753538408478917 |\n",
            "+----------------+---------------------+---------------------+\n",
            "| SINIESTROS(SI) | 0.8118607649333907  | 0.8524646159152108  |\n",
            "+----------------+---------------------+---------------------+\n"
          ]
        }
      ]
    },
    {
      "cell_type": "code",
      "source": [
        "print(mle.estimate_cpd('USO_VEHICULO'))\n"
      ],
      "metadata": {
        "colab": {
          "base_uri": "https://localhost:8080/"
        },
        "id": "XT9qsi7P3KWg",
        "outputId": "fc6b9d50-c56a-4b1d-ff3c-4f48cf02a8a6"
      },
      "execution_count": 175,
      "outputs": [
        {
          "output_type": "stream",
          "name": "stdout",
          "text": [
            "+--------------------------+------------+\n",
            "| USO_VEHICULO(COMERCIAL)  | 0.00422301 |\n",
            "+--------------------------+------------+\n",
            "| USO_VEHICULO(PARTICULAR) | 0.995777   |\n",
            "+--------------------------+------------+\n"
          ]
        }
      ]
    },
    {
      "cell_type": "code",
      "source": [
        "print(mle.estimate_cpd('INFRACCIONES'))\n"
      ],
      "metadata": {
        "colab": {
          "base_uri": "https://localhost:8080/"
        },
        "id": "HKPt1AM33KhH",
        "outputId": "737d5d59-f9a4-4356-ba55-fc011e64b157"
      },
      "execution_count": 176,
      "outputs": [
        {
          "output_type": "stream",
          "name": "stdout",
          "text": [
            "+------------------+-------------------------+--------------------------+\n",
            "| USO_VEHICULO     | USO_VEHICULO(COMERCIAL) | USO_VEHICULO(PARTICULAR) |\n",
            "+------------------+-------------------------+--------------------------+\n",
            "| INFRACCIONES(NO) | 0.8889895786135025      | 0.8350614712359197       |\n",
            "+------------------+-------------------------+--------------------------+\n",
            "| INFRACCIONES(SI) | 0.11101042138649751     | 0.16493852876408036      |\n",
            "+------------------+-------------------------+--------------------------+\n"
          ]
        }
      ]
    },
    {
      "cell_type": "code",
      "source": [
        "print(mle.estimate_cpd('CATEGORIA_VEHICULO'))\n"
      ],
      "metadata": {
        "colab": {
          "base_uri": "https://localhost:8080/"
        },
        "id": "E2RMVL4d3K1I",
        "outputId": "0aa276a6-e219-4a0c-fa9d-6c035f2f263a"
      },
      "execution_count": 177,
      "outputs": [
        {
          "output_type": "stream",
          "name": "stdout",
          "text": [
            "+-------------------------------+----------+\n",
            "| CATEGORIA_VEHICULO(GAMA ALTA) | 0.883583 |\n",
            "+-------------------------------+----------+\n",
            "| CATEGORIA_VEHICULO(GAMA BAJA) | 0.116417 |\n",
            "+-------------------------------+----------+\n"
          ]
        }
      ]
    },
    {
      "cell_type": "code",
      "source": [
        "print(mle.estimate_cpd('GENERO'))\n"
      ],
      "metadata": {
        "colab": {
          "base_uri": "https://localhost:8080/"
        },
        "id": "79XLZqhj3K-P",
        "outputId": "8ee42b6d-42b5-4d9f-bca8-66f73838927d"
      },
      "execution_count": 178,
      "outputs": [
        {
          "output_type": "stream",
          "name": "stdout",
          "text": [
            "+-------------------+----------+\n",
            "| GENERO(FEMENINO)  | 0.347946 |\n",
            "+-------------------+----------+\n",
            "| GENERO(MASCULINO) | 0.652054 |\n",
            "+-------------------+----------+\n"
          ]
        }
      ]
    },
    {
      "cell_type": "code",
      "source": [
        "print(mle.estimate_cpd('EDAD_CONDUCTOR'))\n"
      ],
      "metadata": {
        "colab": {
          "base_uri": "https://localhost:8080/"
        },
        "id": "PsCoFCrF3LHK",
        "outputId": "02fa0e5e-463c-4924-d68e-ed809e19e907"
      },
      "execution_count": 179,
      "outputs": [
        {
          "output_type": "stream",
          "name": "stdout",
          "text": [
            "+------------------------+---------------------+---------------------+\n",
            "| GENERO                 | GENERO(FEMENINO)    | GENERO(MASCULINO)   |\n",
            "+------------------------+---------------------+---------------------+\n",
            "| EDAD_CONDUCTOR(ADULTO) | 0.9052743880642979  | 0.9178981841231088  |\n",
            "+------------------------+---------------------+---------------------+\n",
            "| EDAD_CONDUCTOR(JOVEN)  | 0.09472561193570207 | 0.08210181587689129 |\n",
            "+------------------------+---------------------+---------------------+\n"
          ]
        }
      ]
    },
    {
      "cell_type": "code",
      "source": [
        "print(mle.estimate_cpd('RIESGO_UBICACION'))\n"
      ],
      "metadata": {
        "colab": {
          "base_uri": "https://localhost:8080/"
        },
        "id": "EB7Az87m3LOs",
        "outputId": "d5bac1ed-ec43-4d5f-cc6e-a67016cdfb79"
      },
      "execution_count": 180,
      "outputs": [
        {
          "output_type": "stream",
          "name": "stdout",
          "text": [
            "+------------------------+----------+\n",
            "| RIESGO_UBICACION(ALTO) | 0.704852 |\n",
            "+------------------------+----------+\n",
            "| RIESGO_UBICACION(BAJO) | 0.295148 |\n",
            "+------------------------+----------+\n"
          ]
        }
      ]
    },
    {
      "cell_type": "code",
      "source": [
        "print(mle.estimate_cpd('PRIMA_TECNICA'))\n"
      ],
      "metadata": {
        "colab": {
          "base_uri": "https://localhost:8080/"
        },
        "id": "ZD2aK85x3KrZ",
        "outputId": "d32c94a0-4072-4df0-ccd6-f9ce612b4fb6"
      },
      "execution_count": 181,
      "outputs": [
        {
          "output_type": "stream",
          "name": "stdout",
          "text": [
            "+---------------------+-----+-------------------------------+\n",
            "| CATEGORIA_VEHICULO  | ... | CATEGORIA_VEHICULO(GAMA BAJA) |\n",
            "+---------------------+-----+-------------------------------+\n",
            "| EDAD_CONDUCTOR      | ... | EDAD_CONDUCTOR(JOVEN)         |\n",
            "+---------------------+-----+-------------------------------+\n",
            "| INFRACCIONES        | ... | INFRACCIONES(SI)              |\n",
            "+---------------------+-----+-------------------------------+\n",
            "| RIESGO_UBICACION    | ... | RIESGO_UBICACION(BAJO)        |\n",
            "+---------------------+-----+-------------------------------+\n",
            "| SINIESTROS          | ... | SINIESTROS(SI)                |\n",
            "+---------------------+-----+-------------------------------+\n",
            "| PRIMA_TECNICA(ALTO) | ... | nan                           |\n",
            "+---------------------+-----+-------------------------------+\n",
            "| PRIMA_TECNICA(BAJO) | ... | nan                           |\n",
            "+---------------------+-----+-------------------------------+\n"
          ]
        }
      ]
    },
    {
      "cell_type": "code",
      "source": [
        "model.fit(df, estimator=MaximumLikelihoodEstimator)"
      ],
      "metadata": {
        "id": "jyPUgJNsHlhK"
      },
      "execution_count": 182,
      "outputs": []
    },
    {
      "cell_type": "code",
      "source": [
        "est = BayesianEstimator(model, df)\n",
        "\n",
        "b_estimator = est.estimate_cpd('PRIMA_TECNICA', prior_type='BDeu', equivalent_sample_size=10)\n",
        "print(b_estimator)"
      ],
      "metadata": {
        "colab": {
          "base_uri": "https://localhost:8080/"
        },
        "id": "HRV9kZuyHyXV",
        "outputId": "6ac017e9-1bc1-4c19-eba5-3c29e2f8b7d1"
      },
      "execution_count": 183,
      "outputs": [
        {
          "output_type": "stream",
          "name": "stdout",
          "text": [
            "+---------------------+-----+-------------------------------+\n",
            "| CATEGORIA_VEHICULO  | ... | CATEGORIA_VEHICULO(GAMA BAJA) |\n",
            "+---------------------+-----+-------------------------------+\n",
            "| EDAD_CONDUCTOR      | ... | EDAD_CONDUCTOR(JOVEN)         |\n",
            "+---------------------+-----+-------------------------------+\n",
            "| INFRACCIONES        | ... | INFRACCIONES(SI)              |\n",
            "+---------------------+-----+-------------------------------+\n",
            "| RIESGO_UBICACION    | ... | RIESGO_UBICACION(BAJO)        |\n",
            "+---------------------+-----+-------------------------------+\n",
            "| SINIESTROS          | ... | SINIESTROS(SI)                |\n",
            "+---------------------+-----+-------------------------------+\n",
            "| PRIMA_TECNICA(ALTO) | ... | 0.5                           |\n",
            "+---------------------+-----+-------------------------------+\n",
            "| PRIMA_TECNICA(BAJO) | ... | 0.5                           |\n",
            "+---------------------+-----+-------------------------------+\n"
          ]
        }
      ]
    },
    {
      "cell_type": "code",
      "source": [
        "print ('La probabilidad de la combinacion :CA_0 - S_0 - I_0 - E_0 - R_0 es:',b_estimator.values[0][0][0][0][0])\n",
        "print ('La probabilidad de la combinacion :CA_0 - S_0 - I_0 - E_0 - R_1 es:',b_estimator.values[0][0][0][0][1])\n",
        "print ('La probabilidad de la combinacion :CA_0 - S_0 - I_0 - E_1 - R_0 es:',b_estimator.values[0][0][0][1][0])\n",
        "print ('La probabilidad de la combinacion :CA_0 - S_0 - I_0 - E_1 - R_1 es:',b_estimator.values[0][0][0][1][1])\n",
        "print ('La probabilidad de la combinacion :CA_0 - S_0 - I_1 - E_0 - R_0 es:',b_estimator.values[0][0][1][0][0])\n",
        "print ('La probabilidad de la combinacion :CA_0 - S_0 - I_1 - E_0 - R_1 es:',b_estimator.values[0][0][1][0][1])\n",
        "print ('La probabilidad de la combinacion :CA_0 - S_0 - I_1 - E_1 - R_0 es:',b_estimator.values[0][0][1][1][0])\n",
        "print ('La probabilidad de la combinacion :CA_0 - S_0 - I_1 - E_1 - R_1 es:',b_estimator.values[0][0][1][1][1])\n",
        "print ('La probabilidad de la combinacion :CA_0 - S_1 - I_0 - E_0 - R_0 es:',b_estimator.values[0][1][0][0][0])\n",
        "print ('La probabilidad de la combinacion :CA_0 - S_1 - I_0 - E_0 - R_1 es:',b_estimator.values[0][1][0][0][1])\n",
        "print ('La probabilidad de la combinacion :CA_0 - S_1 - I_0 - E_1 - R_0 es:',b_estimator.values[0][1][0][1][0])\n",
        "print ('La probabilidad de la combinacion :CA_0 - S_1 - I_0 - E_1 - R_1 es:',b_estimator.values[0][1][0][1][1])\n",
        "print ('La probabilidad de la combinacion :CA_0 - S_1 - I_1 - E_0 - R_0 es:',b_estimator.values[0][1][1][0][0])\n",
        "print ('La probabilidad de la combinacion :CA_0 - S_1 - I_1 - E_0 - R_1 es:',b_estimator.values[0][1][1][0][1])\n",
        "print ('La probabilidad de la combinacion :CA_0 - S_1 - I_1 - E_1 - R_0 es:',b_estimator.values[0][1][1][1][0])\n",
        "print ('La probabilidad de la combinacion :CA_0 - S_1 - I_1 - E_1 - R_1 es:',b_estimator.values[0][1][1][1][1])\n",
        "print ('La probabilidad de la combinacion :CA_1 - S_0 - I_0 - E_0 - R_0 es:',b_estimator.values[1][0][0][0][0])\n",
        "print ('La probabilidad de la combinacion :CA_1 - S_0 - I_0 - E_0 - R_1 es:',b_estimator.values[1][0][0][0][1])\n",
        "print ('La probabilidad de la combinacion :CA_1 - S_0 - I_0 - E_1 - R_0 es:',b_estimator.values[1][0][0][1][0])\n",
        "print ('La probabilidad de la combinacion :CA_1 - S_0 - I_0 - E_1 - R_1 es:',b_estimator.values[1][0][0][1][1])\n",
        "print ('La probabilidad de la combinacion :CA_1 - S_0 - I_1 - E_0 - R_0 es:',b_estimator.values[1][0][1][0][0])\n",
        "print ('La probabilidad de la combinacion :CA_1 - S_0 - I_1 - E_0 - R_1 es:',b_estimator.values[1][0][1][0][1])\n",
        "print ('La probabilidad de la combinacion :CA_1 - S_0 - I_1 - E_1 - R_0 es:',b_estimator.values[1][0][1][1][0])\n",
        "print ('La probabilidad de la combinacion :CA_1 - S_0 - I_1 - E_1 - R_1 es:',b_estimator.values[1][0][1][1][1])\n",
        "print ('La probabilidad de la combinacion :CA_1 - S_1 - I_0 - E_0 - R_0 es:',b_estimator.values[1][1][0][0][0])\n",
        "print ('La probabilidad de la combinacion :CA_1 - S_1 - I_0 - E_0 - R_1 es:',b_estimator.values[1][1][0][0][1])\n",
        "print ('La probabilidad de la combinacion :CA_1 - S_1 - I_0 - E_1 - R_0 es:',b_estimator.values[1][1][0][1][0])\n",
        "print ('La probabilidad de la combinacion :CA_1 - S_1 - I_0 - E_1 - R_1 es:',b_estimator.values[1][1][0][1][1])\n",
        "print ('La probabilidad de la combinacion :CA_1 - S_1 - I_1 - E_0 - R_0 es:',b_estimator.values[1][1][1][0][0])\n",
        "print ('La probabilidad de la combinacion :CA_1 - S_1 - I_1 - E_0 - R_1 es:',b_estimator.values[1][1][1][0][1])\n",
        "print ('La probabilidad de la combinacion :CA_1 - S_1 - I_1 - E_1 - R_0 es:',b_estimator.values[1][1][1][1][0])\n",
        "print ('La probabilidad de la combinacion :CA_1 - S_1 - I_1 - E_1 - R_1 es:',b_estimator.values[1][1][1][1][1])"
      ],
      "metadata": {
        "colab": {
          "base_uri": "https://localhost:8080/"
        },
        "id": "SShkQNfQ0LL1",
        "outputId": "e5f5ba5e-090d-4d00-acce-e3e0e602759f"
      },
      "execution_count": 184,
      "outputs": [
        {
          "output_type": "stream",
          "name": "stdout",
          "text": [
            "La probabilidad de la combinacion :CA_0 - S_0 - I_0 - E_0 - R_0 es: [0.5  0.33]\n",
            "La probabilidad de la combinacion :CA_0 - S_0 - I_0 - E_0 - R_1 es: [0.5  0.35]\n",
            "La probabilidad de la combinacion :CA_0 - S_0 - I_0 - E_1 - R_0 es: [0.51 0.5 ]\n",
            "La probabilidad de la combinacion :CA_0 - S_0 - I_0 - E_1 - R_1 es: [0.54 0.5 ]\n",
            "La probabilidad de la combinacion :CA_0 - S_0 - I_1 - E_0 - R_0 es: [0.5  0.34]\n",
            "La probabilidad de la combinacion :CA_0 - S_0 - I_1 - E_0 - R_1 es: [0.5  0.36]\n",
            "La probabilidad de la combinacion :CA_0 - S_0 - I_1 - E_1 - R_0 es: [0.52 0.5 ]\n",
            "La probabilidad de la combinacion :CA_0 - S_0 - I_1 - E_1 - R_1 es: [0.55 0.5 ]\n",
            "La probabilidad de la combinacion :CA_0 - S_1 - I_0 - E_0 - R_0 es: [0.5  0.65]\n",
            "La probabilidad de la combinacion :CA_0 - S_1 - I_0 - E_0 - R_1 es: [0.5  0.68]\n",
            "La probabilidad de la combinacion :CA_0 - S_1 - I_0 - E_1 - R_0 es: [0.82 0.5 ]\n",
            "La probabilidad de la combinacion :CA_0 - S_1 - I_0 - E_1 - R_1 es: [0.84 0.5 ]\n",
            "La probabilidad de la combinacion :CA_0 - S_1 - I_1 - E_0 - R_0 es: [0.5  0.56]\n",
            "La probabilidad de la combinacion :CA_0 - S_1 - I_1 - E_0 - R_1 es: [0.5  0.63]\n",
            "La probabilidad de la combinacion :CA_0 - S_1 - I_1 - E_1 - R_0 es: [0.81 0.5 ]\n",
            "La probabilidad de la combinacion :CA_0 - S_1 - I_1 - E_1 - R_1 es: [0.86 0.5 ]\n",
            "La probabilidad de la combinacion :CA_1 - S_0 - I_0 - E_0 - R_0 es: [0.5  0.67]\n",
            "La probabilidad de la combinacion :CA_1 - S_0 - I_0 - E_0 - R_1 es: [0.5  0.65]\n",
            "La probabilidad de la combinacion :CA_1 - S_0 - I_0 - E_1 - R_0 es: [0.49 0.5 ]\n",
            "La probabilidad de la combinacion :CA_1 - S_0 - I_0 - E_1 - R_1 es: [0.46 0.5 ]\n",
            "La probabilidad de la combinacion :CA_1 - S_0 - I_1 - E_0 - R_0 es: [0.5  0.66]\n",
            "La probabilidad de la combinacion :CA_1 - S_0 - I_1 - E_0 - R_1 es: [0.5  0.64]\n",
            "La probabilidad de la combinacion :CA_1 - S_0 - I_1 - E_1 - R_0 es: [0.48 0.5 ]\n",
            "La probabilidad de la combinacion :CA_1 - S_0 - I_1 - E_1 - R_1 es: [0.45 0.5 ]\n",
            "La probabilidad de la combinacion :CA_1 - S_1 - I_0 - E_0 - R_0 es: [0.5  0.35]\n",
            "La probabilidad de la combinacion :CA_1 - S_1 - I_0 - E_0 - R_1 es: [0.5  0.32]\n",
            "La probabilidad de la combinacion :CA_1 - S_1 - I_0 - E_1 - R_0 es: [0.18 0.5 ]\n",
            "La probabilidad de la combinacion :CA_1 - S_1 - I_0 - E_1 - R_1 es: [0.16 0.5 ]\n",
            "La probabilidad de la combinacion :CA_1 - S_1 - I_1 - E_0 - R_0 es: [0.5  0.44]\n",
            "La probabilidad de la combinacion :CA_1 - S_1 - I_1 - E_0 - R_1 es: [0.5  0.37]\n",
            "La probabilidad de la combinacion :CA_1 - S_1 - I_1 - E_1 - R_0 es: [0.19 0.5 ]\n",
            "La probabilidad de la combinacion :CA_1 - S_1 - I_1 - E_1 - R_1 es: [0.14 0.5 ]\n"
          ]
        }
      ]
    },
    {
      "cell_type": "code",
      "source": [
        "modelo = BayesianNetwork([('CLIENTE', 'SINIESTROS'),('USO_VEHICULO','INFRACCIONES'),('INFRACCIONES','PRIMA_TECNICA'),('SINIESTROS','PRIMA_TECNICA'),('CATEGORIA_VEHICULO','PRIMA_TECNICA'),('GENERO','EDAD_CONDUCTOR'),('EDAD_CONDUCTOR','PRIMA_TECNICA'),('RIESGO_UBICACION','PRIMA_TECNICA')])\n",
        "\n",
        "modelo.fit(df, estimator=BayesianEstimator, prior_type=\"BDeu\") # por defecto equivalent_sample_size=5\n",
        "for cpd in modelo.get_cpds():\n",
        "    print(cpd)"
      ],
      "metadata": {
        "colab": {
          "base_uri": "https://localhost:8080/"
        },
        "id": "UeW2zt5PIv2f",
        "outputId": "ec7778e7-1049-4d39-af9a-597b9f729208"
      },
      "execution_count": 185,
      "outputs": [
        {
          "output_type": "stream",
          "name": "stdout",
          "text": [
            "+------------------+-------+\n",
            "| CLIENTE(ANTIGUO) | 0.423 |\n",
            "+------------------+-------+\n",
            "| CLIENTE(NUEVO)   | 0.577 |\n",
            "+------------------+-------+\n",
            "+----------------+---------------------+---------------------+\n",
            "| CLIENTE        | CLIENTE(ANTIGUO)    | CLIENTE(NUEVO)      |\n",
            "+----------------+---------------------+---------------------+\n",
            "| SINIESTROS(NO) | 0.18814276182613907 | 0.14753830618752084 |\n",
            "+----------------+---------------------+---------------------+\n",
            "| SINIESTROS(SI) | 0.8118572381738609  | 0.8524616938124792  |\n",
            "+----------------+---------------------+---------------------+\n",
            "+--------------------------+------------+\n",
            "| USO_VEHICULO(COMERCIAL)  | 0.00422775 |\n",
            "+--------------------------+------------+\n",
            "| USO_VEHICULO(PARTICULAR) | 0.995772   |\n",
            "+--------------------------+------------+\n",
            "+------------------+-------------------------+--------------------------+\n",
            "| USO_VEHICULO     | USO_VEHICULO(COMERCIAL) | USO_VEHICULO(PARTICULAR) |\n",
            "+------------------+-------------------------+--------------------------+\n",
            "| INFRACCIONES(NO) | 0.8885494455759222      | 0.8350598616279327       |\n",
            "+------------------+-------------------------+--------------------------+\n",
            "| INFRACCIONES(SI) | 0.11145055442407785     | 0.16494013837206734      |\n",
            "+------------------+-------------------------+--------------------------+\n",
            "+---------------------+-----+-------------------------------+\n",
            "| CATEGORIA_VEHICULO  | ... | CATEGORIA_VEHICULO(GAMA BAJA) |\n",
            "+---------------------+-----+-------------------------------+\n",
            "| EDAD_CONDUCTOR      | ... | EDAD_CONDUCTOR(JOVEN)         |\n",
            "+---------------------+-----+-------------------------------+\n",
            "| INFRACCIONES        | ... | INFRACCIONES(SI)              |\n",
            "+---------------------+-----+-------------------------------+\n",
            "| RIESGO_UBICACION    | ... | RIESGO_UBICACION(BAJO)        |\n",
            "+---------------------+-----+-------------------------------+\n",
            "| SINIESTROS          | ... | SINIESTROS(SI)                |\n",
            "+---------------------+-----+-------------------------------+\n",
            "| PRIMA_TECNICA(ALTO) | ... | 0.5                           |\n",
            "+---------------------+-----+-------------------------------+\n",
            "| PRIMA_TECNICA(BAJO) | ... | 0.5                           |\n",
            "+---------------------+-----+-------------------------------+\n",
            "+-------------------------------+----------+\n",
            "| CATEGORIA_VEHICULO(GAMA ALTA) | 0.883579 |\n",
            "+-------------------------------+----------+\n",
            "| CATEGORIA_VEHICULO(GAMA BAJA) | 0.116421 |\n",
            "+-------------------------------+----------+\n",
            "+-------------------+----------+\n",
            "| GENERO(FEMENINO)  | 0.347947 |\n",
            "+-------------------+----------+\n",
            "| GENERO(MASCULINO) | 0.652053 |\n",
            "+-------------------+----------+\n",
            "+------------------------+--------------------+---------------------+\n",
            "| GENERO                 | GENERO(FEMENINO)   | GENERO(MASCULINO)   |\n",
            "+------------------------+--------------------+---------------------+\n",
            "| EDAD_CONDUCTOR(ADULTO) | 0.9052688163173278 | 0.9178951183260484  |\n",
            "+------------------------+--------------------+---------------------+\n",
            "| EDAD_CONDUCTOR(JOVEN)  | 0.0947311836826722 | 0.08210488167395154 |\n",
            "+------------------------+--------------------+---------------------+\n",
            "+------------------------+---------+\n",
            "| RIESGO_UBICACION(ALTO) | 0.70485 |\n",
            "+------------------------+---------+\n",
            "| RIESGO_UBICACION(BAJO) | 0.29515 |\n",
            "+------------------------+---------+\n"
          ]
        }
      ]
    },
    {
      "cell_type": "markdown",
      "source": [
        "# Parte 3 : Aprendizaje de Estructura (DAG)\n"
      ],
      "metadata": {
        "id": "KnZENu1vxfIC"
      }
    },
    {
      "cell_type": "code",
      "source": [
        "df['CATEGORIA_VEHICULO'].replace({'GAMA ALTA': 0, 'GAMA BAJA': 1}, inplace=True)\n",
        "df['CLIENTE'].replace({'NUEVO': 0, 'ANTIGUO': 1}, inplace=True)\n",
        "df['USO_VEHICULO'].replace({'PARTICULAR': 0, 'COMERCIAL': 1}, inplace=True)\n",
        "df['INFRACCIONES'].replace({'NO': 0, 'SI': 1}, inplace=True)\n",
        "df['GENERO'].replace({'MASCULINO': 0, 'FEMENINO': 1}, inplace=True)\n",
        "df['EDAD_CONDUCTOR'].replace({'JOVEN': 0, 'ADULTO': 1}, inplace=True)\n",
        "df['RIESGO_UBICACION'].replace({'ALTO': 0, 'BAJO': 1}, inplace=True)\n",
        "df['PRIMA_TECNICA'].replace({'ALTO': 0, 'BAJO': 1}, inplace=True)\n",
        "df['SINIESTROS'].replace({'SI': 0, 'NO': 1}, inplace=True)\n"
      ],
      "metadata": {
        "id": "ceBYrmgyKULp"
      },
      "execution_count": 186,
      "outputs": []
    },
    {
      "cell_type": "code",
      "source": [
        "df"
      ],
      "metadata": {
        "colab": {
          "base_uri": "https://localhost:8080/",
          "height": 424
        },
        "id": "vf_yIGwql75D",
        "outputId": "21b5b93f-60c8-42dd-b8fd-b0fb8c61db95"
      },
      "execution_count": 187,
      "outputs": [
        {
          "output_type": "execute_result",
          "data": {
            "text/plain": [
              "        CATEGORIA_VEHICULO  CLIENTE  USO_VEHICULO  SINIESTROS  INFRACCIONES  \\\n",
              "1                        0        1             0           0             0   \n",
              "2                        0        1             0           0             0   \n",
              "3                        0        0             0           0             0   \n",
              "5                        0        1             0           0             0   \n",
              "8                        0        0             0           0             0   \n",
              "...                    ...      ...           ...         ...           ...   \n",
              "736991                   0        0             0           0             0   \n",
              "736993                   0        0             0           0             0   \n",
              "736995                   0        1             0           0             0   \n",
              "736997                   1        1             0           0             0   \n",
              "737001                   0        1             0           1             1   \n",
              "\n",
              "        GENERO  EDAD_CONDUCTOR  RIESGO_UBICACION  PRIMA_TECNICA  \n",
              "1            0               1                 0              0  \n",
              "2            0               0                 0              1  \n",
              "3            0               1                 0              0  \n",
              "5            1               1                 1              1  \n",
              "8            0               1                 1              1  \n",
              "...        ...             ...               ...            ...  \n",
              "736991       0               1                 1              1  \n",
              "736993       0               1                 0              1  \n",
              "736995       0               1                 0              0  \n",
              "736997       0               1                 1              0  \n",
              "737001       0               0                 0              0  \n",
              "\n",
              "[522613 rows x 9 columns]"
            ],
            "text/html": [
              "\n",
              "  <div id=\"df-5b06170a-3a17-4e56-a883-783b8ac4cc3c\">\n",
              "    <div class=\"colab-df-container\">\n",
              "      <div>\n",
              "<style scoped>\n",
              "    .dataframe tbody tr th:only-of-type {\n",
              "        vertical-align: middle;\n",
              "    }\n",
              "\n",
              "    .dataframe tbody tr th {\n",
              "        vertical-align: top;\n",
              "    }\n",
              "\n",
              "    .dataframe thead th {\n",
              "        text-align: right;\n",
              "    }\n",
              "</style>\n",
              "<table border=\"1\" class=\"dataframe\">\n",
              "  <thead>\n",
              "    <tr style=\"text-align: right;\">\n",
              "      <th></th>\n",
              "      <th>CATEGORIA_VEHICULO</th>\n",
              "      <th>CLIENTE</th>\n",
              "      <th>USO_VEHICULO</th>\n",
              "      <th>SINIESTROS</th>\n",
              "      <th>INFRACCIONES</th>\n",
              "      <th>GENERO</th>\n",
              "      <th>EDAD_CONDUCTOR</th>\n",
              "      <th>RIESGO_UBICACION</th>\n",
              "      <th>PRIMA_TECNICA</th>\n",
              "    </tr>\n",
              "  </thead>\n",
              "  <tbody>\n",
              "    <tr>\n",
              "      <th>1</th>\n",
              "      <td>0</td>\n",
              "      <td>1</td>\n",
              "      <td>0</td>\n",
              "      <td>0</td>\n",
              "      <td>0</td>\n",
              "      <td>0</td>\n",
              "      <td>1</td>\n",
              "      <td>0</td>\n",
              "      <td>0</td>\n",
              "    </tr>\n",
              "    <tr>\n",
              "      <th>2</th>\n",
              "      <td>0</td>\n",
              "      <td>1</td>\n",
              "      <td>0</td>\n",
              "      <td>0</td>\n",
              "      <td>0</td>\n",
              "      <td>0</td>\n",
              "      <td>0</td>\n",
              "      <td>0</td>\n",
              "      <td>1</td>\n",
              "    </tr>\n",
              "    <tr>\n",
              "      <th>3</th>\n",
              "      <td>0</td>\n",
              "      <td>0</td>\n",
              "      <td>0</td>\n",
              "      <td>0</td>\n",
              "      <td>0</td>\n",
              "      <td>0</td>\n",
              "      <td>1</td>\n",
              "      <td>0</td>\n",
              "      <td>0</td>\n",
              "    </tr>\n",
              "    <tr>\n",
              "      <th>5</th>\n",
              "      <td>0</td>\n",
              "      <td>1</td>\n",
              "      <td>0</td>\n",
              "      <td>0</td>\n",
              "      <td>0</td>\n",
              "      <td>1</td>\n",
              "      <td>1</td>\n",
              "      <td>1</td>\n",
              "      <td>1</td>\n",
              "    </tr>\n",
              "    <tr>\n",
              "      <th>8</th>\n",
              "      <td>0</td>\n",
              "      <td>0</td>\n",
              "      <td>0</td>\n",
              "      <td>0</td>\n",
              "      <td>0</td>\n",
              "      <td>0</td>\n",
              "      <td>1</td>\n",
              "      <td>1</td>\n",
              "      <td>1</td>\n",
              "    </tr>\n",
              "    <tr>\n",
              "      <th>...</th>\n",
              "      <td>...</td>\n",
              "      <td>...</td>\n",
              "      <td>...</td>\n",
              "      <td>...</td>\n",
              "      <td>...</td>\n",
              "      <td>...</td>\n",
              "      <td>...</td>\n",
              "      <td>...</td>\n",
              "      <td>...</td>\n",
              "    </tr>\n",
              "    <tr>\n",
              "      <th>736991</th>\n",
              "      <td>0</td>\n",
              "      <td>0</td>\n",
              "      <td>0</td>\n",
              "      <td>0</td>\n",
              "      <td>0</td>\n",
              "      <td>0</td>\n",
              "      <td>1</td>\n",
              "      <td>1</td>\n",
              "      <td>1</td>\n",
              "    </tr>\n",
              "    <tr>\n",
              "      <th>736993</th>\n",
              "      <td>0</td>\n",
              "      <td>0</td>\n",
              "      <td>0</td>\n",
              "      <td>0</td>\n",
              "      <td>0</td>\n",
              "      <td>0</td>\n",
              "      <td>1</td>\n",
              "      <td>0</td>\n",
              "      <td>1</td>\n",
              "    </tr>\n",
              "    <tr>\n",
              "      <th>736995</th>\n",
              "      <td>0</td>\n",
              "      <td>1</td>\n",
              "      <td>0</td>\n",
              "      <td>0</td>\n",
              "      <td>0</td>\n",
              "      <td>0</td>\n",
              "      <td>1</td>\n",
              "      <td>0</td>\n",
              "      <td>0</td>\n",
              "    </tr>\n",
              "    <tr>\n",
              "      <th>736997</th>\n",
              "      <td>1</td>\n",
              "      <td>1</td>\n",
              "      <td>0</td>\n",
              "      <td>0</td>\n",
              "      <td>0</td>\n",
              "      <td>0</td>\n",
              "      <td>1</td>\n",
              "      <td>1</td>\n",
              "      <td>0</td>\n",
              "    </tr>\n",
              "    <tr>\n",
              "      <th>737001</th>\n",
              "      <td>0</td>\n",
              "      <td>1</td>\n",
              "      <td>0</td>\n",
              "      <td>1</td>\n",
              "      <td>1</td>\n",
              "      <td>0</td>\n",
              "      <td>0</td>\n",
              "      <td>0</td>\n",
              "      <td>0</td>\n",
              "    </tr>\n",
              "  </tbody>\n",
              "</table>\n",
              "<p>522613 rows × 9 columns</p>\n",
              "</div>\n",
              "      <button class=\"colab-df-convert\" onclick=\"convertToInteractive('df-5b06170a-3a17-4e56-a883-783b8ac4cc3c')\"\n",
              "              title=\"Convert this dataframe to an interactive table.\"\n",
              "              style=\"display:none;\">\n",
              "        \n",
              "  <svg xmlns=\"http://www.w3.org/2000/svg\" height=\"24px\"viewBox=\"0 0 24 24\"\n",
              "       width=\"24px\">\n",
              "    <path d=\"M0 0h24v24H0V0z\" fill=\"none\"/>\n",
              "    <path d=\"M18.56 5.44l.94 2.06.94-2.06 2.06-.94-2.06-.94-.94-2.06-.94 2.06-2.06.94zm-11 1L8.5 8.5l.94-2.06 2.06-.94-2.06-.94L8.5 2.5l-.94 2.06-2.06.94zm10 10l.94 2.06.94-2.06 2.06-.94-2.06-.94-.94-2.06-.94 2.06-2.06.94z\"/><path d=\"M17.41 7.96l-1.37-1.37c-.4-.4-.92-.59-1.43-.59-.52 0-1.04.2-1.43.59L10.3 9.45l-7.72 7.72c-.78.78-.78 2.05 0 2.83L4 21.41c.39.39.9.59 1.41.59.51 0 1.02-.2 1.41-.59l7.78-7.78 2.81-2.81c.8-.78.8-2.07 0-2.86zM5.41 20L4 18.59l7.72-7.72 1.47 1.35L5.41 20z\"/>\n",
              "  </svg>\n",
              "      </button>\n",
              "      \n",
              "  <style>\n",
              "    .colab-df-container {\n",
              "      display:flex;\n",
              "      flex-wrap:wrap;\n",
              "      gap: 12px;\n",
              "    }\n",
              "\n",
              "    .colab-df-convert {\n",
              "      background-color: #E8F0FE;\n",
              "      border: none;\n",
              "      border-radius: 50%;\n",
              "      cursor: pointer;\n",
              "      display: none;\n",
              "      fill: #1967D2;\n",
              "      height: 32px;\n",
              "      padding: 0 0 0 0;\n",
              "      width: 32px;\n",
              "    }\n",
              "\n",
              "    .colab-df-convert:hover {\n",
              "      background-color: #E2EBFA;\n",
              "      box-shadow: 0px 1px 2px rgba(60, 64, 67, 0.3), 0px 1px 3px 1px rgba(60, 64, 67, 0.15);\n",
              "      fill: #174EA6;\n",
              "    }\n",
              "\n",
              "    [theme=dark] .colab-df-convert {\n",
              "      background-color: #3B4455;\n",
              "      fill: #D2E3FC;\n",
              "    }\n",
              "\n",
              "    [theme=dark] .colab-df-convert:hover {\n",
              "      background-color: #434B5C;\n",
              "      box-shadow: 0px 1px 3px 1px rgba(0, 0, 0, 0.15);\n",
              "      filter: drop-shadow(0px 1px 2px rgba(0, 0, 0, 0.3));\n",
              "      fill: #FFFFFF;\n",
              "    }\n",
              "  </style>\n",
              "\n",
              "      <script>\n",
              "        const buttonEl =\n",
              "          document.querySelector('#df-5b06170a-3a17-4e56-a883-783b8ac4cc3c button.colab-df-convert');\n",
              "        buttonEl.style.display =\n",
              "          google.colab.kernel.accessAllowed ? 'block' : 'none';\n",
              "\n",
              "        async function convertToInteractive(key) {\n",
              "          const element = document.querySelector('#df-5b06170a-3a17-4e56-a883-783b8ac4cc3c');\n",
              "          const dataTable =\n",
              "            await google.colab.kernel.invokeFunction('convertToInteractive',\n",
              "                                                     [key], {});\n",
              "          if (!dataTable) return;\n",
              "\n",
              "          const docLinkHtml = 'Like what you see? Visit the ' +\n",
              "            '<a target=\"_blank\" href=https://colab.research.google.com/notebooks/data_table.ipynb>data table notebook</a>'\n",
              "            + ' to learn more about interactive tables.';\n",
              "          element.innerHTML = '';\n",
              "          dataTable['output_type'] = 'display_data';\n",
              "          await google.colab.output.renderOutput(dataTable, element);\n",
              "          const docLink = document.createElement('div');\n",
              "          docLink.innerHTML = docLinkHtml;\n",
              "          element.appendChild(docLink);\n",
              "        }\n",
              "      </script>\n",
              "    </div>\n",
              "  </div>\n",
              "  "
            ]
          },
          "metadata": {},
          "execution_count": 187
        }
      ]
    },
    {
      "cell_type": "code",
      "source": [
        "X = (df.iloc[:, :-1])\n",
        "y = (df.iloc[:, -1])"
      ],
      "metadata": {
        "id": "k9IEGJRO8Tvr"
      },
      "execution_count": 188,
      "outputs": []
    },
    {
      "cell_type": "code",
      "source": [
        "X.head()"
      ],
      "metadata": {
        "colab": {
          "base_uri": "https://localhost:8080/",
          "height": 206
        },
        "id": "41zTUnxC8YRt",
        "outputId": "6f5766b8-ec46-410c-928a-97551677032d"
      },
      "execution_count": 189,
      "outputs": [
        {
          "output_type": "execute_result",
          "data": {
            "text/plain": [
              "   CATEGORIA_VEHICULO  CLIENTE  USO_VEHICULO  SINIESTROS  INFRACCIONES  \\\n",
              "1                   0        1             0           0             0   \n",
              "2                   0        1             0           0             0   \n",
              "3                   0        0             0           0             0   \n",
              "5                   0        1             0           0             0   \n",
              "8                   0        0             0           0             0   \n",
              "\n",
              "   GENERO  EDAD_CONDUCTOR  RIESGO_UBICACION  \n",
              "1       0               1                 0  \n",
              "2       0               0                 0  \n",
              "3       0               1                 0  \n",
              "5       1               1                 1  \n",
              "8       0               1                 1  "
            ],
            "text/html": [
              "\n",
              "  <div id=\"df-989bd255-d88a-4fa6-897a-b96955a87b1c\">\n",
              "    <div class=\"colab-df-container\">\n",
              "      <div>\n",
              "<style scoped>\n",
              "    .dataframe tbody tr th:only-of-type {\n",
              "        vertical-align: middle;\n",
              "    }\n",
              "\n",
              "    .dataframe tbody tr th {\n",
              "        vertical-align: top;\n",
              "    }\n",
              "\n",
              "    .dataframe thead th {\n",
              "        text-align: right;\n",
              "    }\n",
              "</style>\n",
              "<table border=\"1\" class=\"dataframe\">\n",
              "  <thead>\n",
              "    <tr style=\"text-align: right;\">\n",
              "      <th></th>\n",
              "      <th>CATEGORIA_VEHICULO</th>\n",
              "      <th>CLIENTE</th>\n",
              "      <th>USO_VEHICULO</th>\n",
              "      <th>SINIESTROS</th>\n",
              "      <th>INFRACCIONES</th>\n",
              "      <th>GENERO</th>\n",
              "      <th>EDAD_CONDUCTOR</th>\n",
              "      <th>RIESGO_UBICACION</th>\n",
              "    </tr>\n",
              "  </thead>\n",
              "  <tbody>\n",
              "    <tr>\n",
              "      <th>1</th>\n",
              "      <td>0</td>\n",
              "      <td>1</td>\n",
              "      <td>0</td>\n",
              "      <td>0</td>\n",
              "      <td>0</td>\n",
              "      <td>0</td>\n",
              "      <td>1</td>\n",
              "      <td>0</td>\n",
              "    </tr>\n",
              "    <tr>\n",
              "      <th>2</th>\n",
              "      <td>0</td>\n",
              "      <td>1</td>\n",
              "      <td>0</td>\n",
              "      <td>0</td>\n",
              "      <td>0</td>\n",
              "      <td>0</td>\n",
              "      <td>0</td>\n",
              "      <td>0</td>\n",
              "    </tr>\n",
              "    <tr>\n",
              "      <th>3</th>\n",
              "      <td>0</td>\n",
              "      <td>0</td>\n",
              "      <td>0</td>\n",
              "      <td>0</td>\n",
              "      <td>0</td>\n",
              "      <td>0</td>\n",
              "      <td>1</td>\n",
              "      <td>0</td>\n",
              "    </tr>\n",
              "    <tr>\n",
              "      <th>5</th>\n",
              "      <td>0</td>\n",
              "      <td>1</td>\n",
              "      <td>0</td>\n",
              "      <td>0</td>\n",
              "      <td>0</td>\n",
              "      <td>1</td>\n",
              "      <td>1</td>\n",
              "      <td>1</td>\n",
              "    </tr>\n",
              "    <tr>\n",
              "      <th>8</th>\n",
              "      <td>0</td>\n",
              "      <td>0</td>\n",
              "      <td>0</td>\n",
              "      <td>0</td>\n",
              "      <td>0</td>\n",
              "      <td>0</td>\n",
              "      <td>1</td>\n",
              "      <td>1</td>\n",
              "    </tr>\n",
              "  </tbody>\n",
              "</table>\n",
              "</div>\n",
              "      <button class=\"colab-df-convert\" onclick=\"convertToInteractive('df-989bd255-d88a-4fa6-897a-b96955a87b1c')\"\n",
              "              title=\"Convert this dataframe to an interactive table.\"\n",
              "              style=\"display:none;\">\n",
              "        \n",
              "  <svg xmlns=\"http://www.w3.org/2000/svg\" height=\"24px\"viewBox=\"0 0 24 24\"\n",
              "       width=\"24px\">\n",
              "    <path d=\"M0 0h24v24H0V0z\" fill=\"none\"/>\n",
              "    <path d=\"M18.56 5.44l.94 2.06.94-2.06 2.06-.94-2.06-.94-.94-2.06-.94 2.06-2.06.94zm-11 1L8.5 8.5l.94-2.06 2.06-.94-2.06-.94L8.5 2.5l-.94 2.06-2.06.94zm10 10l.94 2.06.94-2.06 2.06-.94-2.06-.94-.94-2.06-.94 2.06-2.06.94z\"/><path d=\"M17.41 7.96l-1.37-1.37c-.4-.4-.92-.59-1.43-.59-.52 0-1.04.2-1.43.59L10.3 9.45l-7.72 7.72c-.78.78-.78 2.05 0 2.83L4 21.41c.39.39.9.59 1.41.59.51 0 1.02-.2 1.41-.59l7.78-7.78 2.81-2.81c.8-.78.8-2.07 0-2.86zM5.41 20L4 18.59l7.72-7.72 1.47 1.35L5.41 20z\"/>\n",
              "  </svg>\n",
              "      </button>\n",
              "      \n",
              "  <style>\n",
              "    .colab-df-container {\n",
              "      display:flex;\n",
              "      flex-wrap:wrap;\n",
              "      gap: 12px;\n",
              "    }\n",
              "\n",
              "    .colab-df-convert {\n",
              "      background-color: #E8F0FE;\n",
              "      border: none;\n",
              "      border-radius: 50%;\n",
              "      cursor: pointer;\n",
              "      display: none;\n",
              "      fill: #1967D2;\n",
              "      height: 32px;\n",
              "      padding: 0 0 0 0;\n",
              "      width: 32px;\n",
              "    }\n",
              "\n",
              "    .colab-df-convert:hover {\n",
              "      background-color: #E2EBFA;\n",
              "      box-shadow: 0px 1px 2px rgba(60, 64, 67, 0.3), 0px 1px 3px 1px rgba(60, 64, 67, 0.15);\n",
              "      fill: #174EA6;\n",
              "    }\n",
              "\n",
              "    [theme=dark] .colab-df-convert {\n",
              "      background-color: #3B4455;\n",
              "      fill: #D2E3FC;\n",
              "    }\n",
              "\n",
              "    [theme=dark] .colab-df-convert:hover {\n",
              "      background-color: #434B5C;\n",
              "      box-shadow: 0px 1px 3px 1px rgba(0, 0, 0, 0.15);\n",
              "      filter: drop-shadow(0px 1px 2px rgba(0, 0, 0, 0.3));\n",
              "      fill: #FFFFFF;\n",
              "    }\n",
              "  </style>\n",
              "\n",
              "      <script>\n",
              "        const buttonEl =\n",
              "          document.querySelector('#df-989bd255-d88a-4fa6-897a-b96955a87b1c button.colab-df-convert');\n",
              "        buttonEl.style.display =\n",
              "          google.colab.kernel.accessAllowed ? 'block' : 'none';\n",
              "\n",
              "        async function convertToInteractive(key) {\n",
              "          const element = document.querySelector('#df-989bd255-d88a-4fa6-897a-b96955a87b1c');\n",
              "          const dataTable =\n",
              "            await google.colab.kernel.invokeFunction('convertToInteractive',\n",
              "                                                     [key], {});\n",
              "          if (!dataTable) return;\n",
              "\n",
              "          const docLinkHtml = 'Like what you see? Visit the ' +\n",
              "            '<a target=\"_blank\" href=https://colab.research.google.com/notebooks/data_table.ipynb>data table notebook</a>'\n",
              "            + ' to learn more about interactive tables.';\n",
              "          element.innerHTML = '';\n",
              "          dataTable['output_type'] = 'display_data';\n",
              "          await google.colab.output.renderOutput(dataTable, element);\n",
              "          const docLink = document.createElement('div');\n",
              "          docLink.innerHTML = docLinkHtml;\n",
              "          element.appendChild(docLink);\n",
              "        }\n",
              "      </script>\n",
              "    </div>\n",
              "  </div>\n",
              "  "
            ]
          },
          "metadata": {},
          "execution_count": 189
        }
      ]
    },
    {
      "cell_type": "code",
      "source": [
        "y.head()"
      ],
      "metadata": {
        "colab": {
          "base_uri": "https://localhost:8080/"
        },
        "id": "5PmBwjdQ8ahN",
        "outputId": "882f21a3-c4d2-499e-b900-d1a2433115b3"
      },
      "execution_count": 190,
      "outputs": [
        {
          "output_type": "execute_result",
          "data": {
            "text/plain": [
              "1    0\n",
              "2    1\n",
              "3    0\n",
              "5    1\n",
              "8    1\n",
              "Name: PRIMA_TECNICA, dtype: int64"
            ]
          },
          "metadata": {},
          "execution_count": 190
        }
      ]
    },
    {
      "cell_type": "code",
      "source": [
        "random_state = 123\n",
        "np.random.seed(random_state)\n",
        "warnings.simplefilter('ignore')\n",
        "np.set_printoptions(precision=2, suppress=True)"
      ],
      "metadata": {
        "id": "YNoetPpS8mYB"
      },
      "execution_count": 191,
      "outputs": []
    },
    {
      "cell_type": "code",
      "source": [
        "fs = SelectKBest(score_func=chi2, k=8)\n",
        "f_best = fs.fit_transform(X, y)\n",
        "\n",
        "top_features = sorted(zip(list(X.columns), fs.scores_), key=lambda x: x[1], reverse=True)\n",
        "top_features"
      ],
      "metadata": {
        "colab": {
          "base_uri": "https://localhost:8080/"
        },
        "id": "flPv5J7C8icl",
        "outputId": "40c2ee98-0d9a-490f-dccb-99571705e599"
      },
      "execution_count": 192,
      "outputs": [
        {
          "output_type": "execute_result",
          "data": {
            "text/plain": [
              "[('CATEGORIA_VEHICULO', 21104.535550283115),\n",
              " ('SINIESTROS', 8974.85387225722),\n",
              " ('INFRACCIONES', 8974.85387225722),\n",
              " ('CLIENTE', 1033.6627770920954),\n",
              " ('GENERO', 567.5119173573008),\n",
              " ('RIESGO_UBICACION', 505.883027400733),\n",
              " ('USO_VEHICULO', 25.615680462397336),\n",
              " ('EDAD_CONDUCTOR', 0.02351391825506889)]"
            ]
          },
          "metadata": {},
          "execution_count": 192
        }
      ]
    },
    {
      "cell_type": "code",
      "source": [
        "#En la variable data mantenemos solo las 8 mejores variables que pueden incidir en el evento de muerte (PRIMA_TECNICA) mas dicha variable (nuestro target)\n",
        "columns = ['CATEGORIA_VEHICULO','CLIENTE','USO_VEHICULO','SINIESTROS','INFRACCIONES','GENERO','EDAD_CONDUCTOR','RIESGO_UBICACION']\n",
        "data = pd.DataFrame(f_best, columns= columns)\n",
        "data[df.columns[-1]] = y\n",
        "data = data.replace(np.NaN,0)\n",
        "data"
      ],
      "metadata": {
        "colab": {
          "base_uri": "https://localhost:8080/",
          "height": 424
        },
        "id": "v9LEjzOh_jgb",
        "outputId": "23fb4ca0-de5a-4446-f0c0-54d3ed8448b6"
      },
      "execution_count": 193,
      "outputs": [
        {
          "output_type": "execute_result",
          "data": {
            "text/plain": [
              "        CATEGORIA_VEHICULO  CLIENTE  USO_VEHICULO  SINIESTROS  INFRACCIONES  \\\n",
              "0                        0        1             0           0             0   \n",
              "1                        0        1             0           0             0   \n",
              "2                        0        0             0           0             0   \n",
              "3                        0        1             0           0             0   \n",
              "4                        0        0             0           0             0   \n",
              "...                    ...      ...           ...         ...           ...   \n",
              "522608                   0        0             0           0             0   \n",
              "522609                   0        0             0           0             0   \n",
              "522610                   0        1             0           0             0   \n",
              "522611                   1        1             0           0             0   \n",
              "522612                   0        1             0           1             1   \n",
              "\n",
              "        GENERO  EDAD_CONDUCTOR  RIESGO_UBICACION  PRIMA_TECNICA  \n",
              "0            0               1                 0            0.0  \n",
              "1            0               0                 0            0.0  \n",
              "2            0               1                 0            1.0  \n",
              "3            1               1                 1            0.0  \n",
              "4            0               1                 1            0.0  \n",
              "...        ...             ...               ...            ...  \n",
              "522608       0               1                 1            1.0  \n",
              "522609       0               1                 0            1.0  \n",
              "522610       0               1                 0            0.0  \n",
              "522611       0               1                 1            0.0  \n",
              "522612       0               0                 0            0.0  \n",
              "\n",
              "[522613 rows x 9 columns]"
            ],
            "text/html": [
              "\n",
              "  <div id=\"df-34768678-124c-42ba-a549-3a1620d622b6\">\n",
              "    <div class=\"colab-df-container\">\n",
              "      <div>\n",
              "<style scoped>\n",
              "    .dataframe tbody tr th:only-of-type {\n",
              "        vertical-align: middle;\n",
              "    }\n",
              "\n",
              "    .dataframe tbody tr th {\n",
              "        vertical-align: top;\n",
              "    }\n",
              "\n",
              "    .dataframe thead th {\n",
              "        text-align: right;\n",
              "    }\n",
              "</style>\n",
              "<table border=\"1\" class=\"dataframe\">\n",
              "  <thead>\n",
              "    <tr style=\"text-align: right;\">\n",
              "      <th></th>\n",
              "      <th>CATEGORIA_VEHICULO</th>\n",
              "      <th>CLIENTE</th>\n",
              "      <th>USO_VEHICULO</th>\n",
              "      <th>SINIESTROS</th>\n",
              "      <th>INFRACCIONES</th>\n",
              "      <th>GENERO</th>\n",
              "      <th>EDAD_CONDUCTOR</th>\n",
              "      <th>RIESGO_UBICACION</th>\n",
              "      <th>PRIMA_TECNICA</th>\n",
              "    </tr>\n",
              "  </thead>\n",
              "  <tbody>\n",
              "    <tr>\n",
              "      <th>0</th>\n",
              "      <td>0</td>\n",
              "      <td>1</td>\n",
              "      <td>0</td>\n",
              "      <td>0</td>\n",
              "      <td>0</td>\n",
              "      <td>0</td>\n",
              "      <td>1</td>\n",
              "      <td>0</td>\n",
              "      <td>0.0</td>\n",
              "    </tr>\n",
              "    <tr>\n",
              "      <th>1</th>\n",
              "      <td>0</td>\n",
              "      <td>1</td>\n",
              "      <td>0</td>\n",
              "      <td>0</td>\n",
              "      <td>0</td>\n",
              "      <td>0</td>\n",
              "      <td>0</td>\n",
              "      <td>0</td>\n",
              "      <td>0.0</td>\n",
              "    </tr>\n",
              "    <tr>\n",
              "      <th>2</th>\n",
              "      <td>0</td>\n",
              "      <td>0</td>\n",
              "      <td>0</td>\n",
              "      <td>0</td>\n",
              "      <td>0</td>\n",
              "      <td>0</td>\n",
              "      <td>1</td>\n",
              "      <td>0</td>\n",
              "      <td>1.0</td>\n",
              "    </tr>\n",
              "    <tr>\n",
              "      <th>3</th>\n",
              "      <td>0</td>\n",
              "      <td>1</td>\n",
              "      <td>0</td>\n",
              "      <td>0</td>\n",
              "      <td>0</td>\n",
              "      <td>1</td>\n",
              "      <td>1</td>\n",
              "      <td>1</td>\n",
              "      <td>0.0</td>\n",
              "    </tr>\n",
              "    <tr>\n",
              "      <th>4</th>\n",
              "      <td>0</td>\n",
              "      <td>0</td>\n",
              "      <td>0</td>\n",
              "      <td>0</td>\n",
              "      <td>0</td>\n",
              "      <td>0</td>\n",
              "      <td>1</td>\n",
              "      <td>1</td>\n",
              "      <td>0.0</td>\n",
              "    </tr>\n",
              "    <tr>\n",
              "      <th>...</th>\n",
              "      <td>...</td>\n",
              "      <td>...</td>\n",
              "      <td>...</td>\n",
              "      <td>...</td>\n",
              "      <td>...</td>\n",
              "      <td>...</td>\n",
              "      <td>...</td>\n",
              "      <td>...</td>\n",
              "      <td>...</td>\n",
              "    </tr>\n",
              "    <tr>\n",
              "      <th>522608</th>\n",
              "      <td>0</td>\n",
              "      <td>0</td>\n",
              "      <td>0</td>\n",
              "      <td>0</td>\n",
              "      <td>0</td>\n",
              "      <td>0</td>\n",
              "      <td>1</td>\n",
              "      <td>1</td>\n",
              "      <td>1.0</td>\n",
              "    </tr>\n",
              "    <tr>\n",
              "      <th>522609</th>\n",
              "      <td>0</td>\n",
              "      <td>0</td>\n",
              "      <td>0</td>\n",
              "      <td>0</td>\n",
              "      <td>0</td>\n",
              "      <td>0</td>\n",
              "      <td>1</td>\n",
              "      <td>0</td>\n",
              "      <td>1.0</td>\n",
              "    </tr>\n",
              "    <tr>\n",
              "      <th>522610</th>\n",
              "      <td>0</td>\n",
              "      <td>1</td>\n",
              "      <td>0</td>\n",
              "      <td>0</td>\n",
              "      <td>0</td>\n",
              "      <td>0</td>\n",
              "      <td>1</td>\n",
              "      <td>0</td>\n",
              "      <td>0.0</td>\n",
              "    </tr>\n",
              "    <tr>\n",
              "      <th>522611</th>\n",
              "      <td>1</td>\n",
              "      <td>1</td>\n",
              "      <td>0</td>\n",
              "      <td>0</td>\n",
              "      <td>0</td>\n",
              "      <td>0</td>\n",
              "      <td>1</td>\n",
              "      <td>1</td>\n",
              "      <td>0.0</td>\n",
              "    </tr>\n",
              "    <tr>\n",
              "      <th>522612</th>\n",
              "      <td>0</td>\n",
              "      <td>1</td>\n",
              "      <td>0</td>\n",
              "      <td>1</td>\n",
              "      <td>1</td>\n",
              "      <td>0</td>\n",
              "      <td>0</td>\n",
              "      <td>0</td>\n",
              "      <td>0.0</td>\n",
              "    </tr>\n",
              "  </tbody>\n",
              "</table>\n",
              "<p>522613 rows × 9 columns</p>\n",
              "</div>\n",
              "      <button class=\"colab-df-convert\" onclick=\"convertToInteractive('df-34768678-124c-42ba-a549-3a1620d622b6')\"\n",
              "              title=\"Convert this dataframe to an interactive table.\"\n",
              "              style=\"display:none;\">\n",
              "        \n",
              "  <svg xmlns=\"http://www.w3.org/2000/svg\" height=\"24px\"viewBox=\"0 0 24 24\"\n",
              "       width=\"24px\">\n",
              "    <path d=\"M0 0h24v24H0V0z\" fill=\"none\"/>\n",
              "    <path d=\"M18.56 5.44l.94 2.06.94-2.06 2.06-.94-2.06-.94-.94-2.06-.94 2.06-2.06.94zm-11 1L8.5 8.5l.94-2.06 2.06-.94-2.06-.94L8.5 2.5l-.94 2.06-2.06.94zm10 10l.94 2.06.94-2.06 2.06-.94-2.06-.94-.94-2.06-.94 2.06-2.06.94z\"/><path d=\"M17.41 7.96l-1.37-1.37c-.4-.4-.92-.59-1.43-.59-.52 0-1.04.2-1.43.59L10.3 9.45l-7.72 7.72c-.78.78-.78 2.05 0 2.83L4 21.41c.39.39.9.59 1.41.59.51 0 1.02-.2 1.41-.59l7.78-7.78 2.81-2.81c.8-.78.8-2.07 0-2.86zM5.41 20L4 18.59l7.72-7.72 1.47 1.35L5.41 20z\"/>\n",
              "  </svg>\n",
              "      </button>\n",
              "      \n",
              "  <style>\n",
              "    .colab-df-container {\n",
              "      display:flex;\n",
              "      flex-wrap:wrap;\n",
              "      gap: 12px;\n",
              "    }\n",
              "\n",
              "    .colab-df-convert {\n",
              "      background-color: #E8F0FE;\n",
              "      border: none;\n",
              "      border-radius: 50%;\n",
              "      cursor: pointer;\n",
              "      display: none;\n",
              "      fill: #1967D2;\n",
              "      height: 32px;\n",
              "      padding: 0 0 0 0;\n",
              "      width: 32px;\n",
              "    }\n",
              "\n",
              "    .colab-df-convert:hover {\n",
              "      background-color: #E2EBFA;\n",
              "      box-shadow: 0px 1px 2px rgba(60, 64, 67, 0.3), 0px 1px 3px 1px rgba(60, 64, 67, 0.15);\n",
              "      fill: #174EA6;\n",
              "    }\n",
              "\n",
              "    [theme=dark] .colab-df-convert {\n",
              "      background-color: #3B4455;\n",
              "      fill: #D2E3FC;\n",
              "    }\n",
              "\n",
              "    [theme=dark] .colab-df-convert:hover {\n",
              "      background-color: #434B5C;\n",
              "      box-shadow: 0px 1px 3px 1px rgba(0, 0, 0, 0.15);\n",
              "      filter: drop-shadow(0px 1px 2px rgba(0, 0, 0, 0.3));\n",
              "      fill: #FFFFFF;\n",
              "    }\n",
              "  </style>\n",
              "\n",
              "      <script>\n",
              "        const buttonEl =\n",
              "          document.querySelector('#df-34768678-124c-42ba-a549-3a1620d622b6 button.colab-df-convert');\n",
              "        buttonEl.style.display =\n",
              "          google.colab.kernel.accessAllowed ? 'block' : 'none';\n",
              "\n",
              "        async function convertToInteractive(key) {\n",
              "          const element = document.querySelector('#df-34768678-124c-42ba-a549-3a1620d622b6');\n",
              "          const dataTable =\n",
              "            await google.colab.kernel.invokeFunction('convertToInteractive',\n",
              "                                                     [key], {});\n",
              "          if (!dataTable) return;\n",
              "\n",
              "          const docLinkHtml = 'Like what you see? Visit the ' +\n",
              "            '<a target=\"_blank\" href=https://colab.research.google.com/notebooks/data_table.ipynb>data table notebook</a>'\n",
              "            + ' to learn more about interactive tables.';\n",
              "          element.innerHTML = '';\n",
              "          dataTable['output_type'] = 'display_data';\n",
              "          await google.colab.output.renderOutput(dataTable, element);\n",
              "          const docLink = document.createElement('div');\n",
              "          docLink.innerHTML = docLinkHtml;\n",
              "          element.appendChild(docLink);\n",
              "        }\n",
              "      </script>\n",
              "    </div>\n",
              "  </div>\n",
              "  "
            ]
          },
          "metadata": {},
          "execution_count": 193
        }
      ]
    },
    {
      "cell_type": "code",
      "source": [
        "data.shape[0]"
      ],
      "metadata": {
        "colab": {
          "base_uri": "https://localhost:8080/"
        },
        "id": "bfpuIwOALr14",
        "outputId": "0367e53b-9f2c-4742-82c4-349ae01fcd7a"
      },
      "execution_count": 194,
      "outputs": [
        {
          "output_type": "execute_result",
          "data": {
            "text/plain": [
              "522613"
            ]
          },
          "metadata": {},
          "execution_count": 194
        }
      ]
    },
    {
      "cell_type": "code",
      "source": [
        "data.groupby([data.columns], axis=1).size()"
      ],
      "metadata": {
        "colab": {
          "base_uri": "https://localhost:8080/"
        },
        "id": "ePae46emL75-",
        "outputId": "76dc10e9-1d81-44a7-9380-aabaf31e8a49"
      },
      "execution_count": 195,
      "outputs": [
        {
          "output_type": "execute_result",
          "data": {
            "text/plain": [
              "CATEGORIA_VEHICULO    1\n",
              "CLIENTE               1\n",
              "EDAD_CONDUCTOR        1\n",
              "GENERO                1\n",
              "INFRACCIONES          1\n",
              "PRIMA_TECNICA         1\n",
              "RIESGO_UBICACION      1\n",
              "SINIESTROS            1\n",
              "USO_VEHICULO          1\n",
              "dtype: int64"
            ]
          },
          "metadata": {},
          "execution_count": 195
        }
      ]
    },
    {
      "cell_type": "code",
      "source": [
        "joint_probability = data.groupby([data.columns], axis=1).size()/data.shape[0]\n",
        "pd.DataFrame(joint_probability)"
      ],
      "metadata": {
        "colab": {
          "base_uri": "https://localhost:8080/",
          "height": 332
        },
        "id": "A90H04NPL_RS",
        "outputId": "43194837-3400-4064-a46a-423995b80d71"
      },
      "execution_count": 196,
      "outputs": [
        {
          "output_type": "execute_result",
          "data": {
            "text/plain": [
              "                           0\n",
              "CATEGORIA_VEHICULO  0.000002\n",
              "CLIENTE             0.000002\n",
              "EDAD_CONDUCTOR      0.000002\n",
              "GENERO              0.000002\n",
              "INFRACCIONES        0.000002\n",
              "PRIMA_TECNICA       0.000002\n",
              "RIESGO_UBICACION    0.000002\n",
              "SINIESTROS          0.000002\n",
              "USO_VEHICULO        0.000002"
            ],
            "text/html": [
              "\n",
              "  <div id=\"df-e22c465c-4507-4dac-91ee-b5d8718acfd1\">\n",
              "    <div class=\"colab-df-container\">\n",
              "      <div>\n",
              "<style scoped>\n",
              "    .dataframe tbody tr th:only-of-type {\n",
              "        vertical-align: middle;\n",
              "    }\n",
              "\n",
              "    .dataframe tbody tr th {\n",
              "        vertical-align: top;\n",
              "    }\n",
              "\n",
              "    .dataframe thead th {\n",
              "        text-align: right;\n",
              "    }\n",
              "</style>\n",
              "<table border=\"1\" class=\"dataframe\">\n",
              "  <thead>\n",
              "    <tr style=\"text-align: right;\">\n",
              "      <th></th>\n",
              "      <th>0</th>\n",
              "    </tr>\n",
              "  </thead>\n",
              "  <tbody>\n",
              "    <tr>\n",
              "      <th>CATEGORIA_VEHICULO</th>\n",
              "      <td>0.000002</td>\n",
              "    </tr>\n",
              "    <tr>\n",
              "      <th>CLIENTE</th>\n",
              "      <td>0.000002</td>\n",
              "    </tr>\n",
              "    <tr>\n",
              "      <th>EDAD_CONDUCTOR</th>\n",
              "      <td>0.000002</td>\n",
              "    </tr>\n",
              "    <tr>\n",
              "      <th>GENERO</th>\n",
              "      <td>0.000002</td>\n",
              "    </tr>\n",
              "    <tr>\n",
              "      <th>INFRACCIONES</th>\n",
              "      <td>0.000002</td>\n",
              "    </tr>\n",
              "    <tr>\n",
              "      <th>PRIMA_TECNICA</th>\n",
              "      <td>0.000002</td>\n",
              "    </tr>\n",
              "    <tr>\n",
              "      <th>RIESGO_UBICACION</th>\n",
              "      <td>0.000002</td>\n",
              "    </tr>\n",
              "    <tr>\n",
              "      <th>SINIESTROS</th>\n",
              "      <td>0.000002</td>\n",
              "    </tr>\n",
              "    <tr>\n",
              "      <th>USO_VEHICULO</th>\n",
              "      <td>0.000002</td>\n",
              "    </tr>\n",
              "  </tbody>\n",
              "</table>\n",
              "</div>\n",
              "      <button class=\"colab-df-convert\" onclick=\"convertToInteractive('df-e22c465c-4507-4dac-91ee-b5d8718acfd1')\"\n",
              "              title=\"Convert this dataframe to an interactive table.\"\n",
              "              style=\"display:none;\">\n",
              "        \n",
              "  <svg xmlns=\"http://www.w3.org/2000/svg\" height=\"24px\"viewBox=\"0 0 24 24\"\n",
              "       width=\"24px\">\n",
              "    <path d=\"M0 0h24v24H0V0z\" fill=\"none\"/>\n",
              "    <path d=\"M18.56 5.44l.94 2.06.94-2.06 2.06-.94-2.06-.94-.94-2.06-.94 2.06-2.06.94zm-11 1L8.5 8.5l.94-2.06 2.06-.94-2.06-.94L8.5 2.5l-.94 2.06-2.06.94zm10 10l.94 2.06.94-2.06 2.06-.94-2.06-.94-.94-2.06-.94 2.06-2.06.94z\"/><path d=\"M17.41 7.96l-1.37-1.37c-.4-.4-.92-.59-1.43-.59-.52 0-1.04.2-1.43.59L10.3 9.45l-7.72 7.72c-.78.78-.78 2.05 0 2.83L4 21.41c.39.39.9.59 1.41.59.51 0 1.02-.2 1.41-.59l7.78-7.78 2.81-2.81c.8-.78.8-2.07 0-2.86zM5.41 20L4 18.59l7.72-7.72 1.47 1.35L5.41 20z\"/>\n",
              "  </svg>\n",
              "      </button>\n",
              "      \n",
              "  <style>\n",
              "    .colab-df-container {\n",
              "      display:flex;\n",
              "      flex-wrap:wrap;\n",
              "      gap: 12px;\n",
              "    }\n",
              "\n",
              "    .colab-df-convert {\n",
              "      background-color: #E8F0FE;\n",
              "      border: none;\n",
              "      border-radius: 50%;\n",
              "      cursor: pointer;\n",
              "      display: none;\n",
              "      fill: #1967D2;\n",
              "      height: 32px;\n",
              "      padding: 0 0 0 0;\n",
              "      width: 32px;\n",
              "    }\n",
              "\n",
              "    .colab-df-convert:hover {\n",
              "      background-color: #E2EBFA;\n",
              "      box-shadow: 0px 1px 2px rgba(60, 64, 67, 0.3), 0px 1px 3px 1px rgba(60, 64, 67, 0.15);\n",
              "      fill: #174EA6;\n",
              "    }\n",
              "\n",
              "    [theme=dark] .colab-df-convert {\n",
              "      background-color: #3B4455;\n",
              "      fill: #D2E3FC;\n",
              "    }\n",
              "\n",
              "    [theme=dark] .colab-df-convert:hover {\n",
              "      background-color: #434B5C;\n",
              "      box-shadow: 0px 1px 3px 1px rgba(0, 0, 0, 0.15);\n",
              "      filter: drop-shadow(0px 1px 2px rgba(0, 0, 0, 0.3));\n",
              "      fill: #FFFFFF;\n",
              "    }\n",
              "  </style>\n",
              "\n",
              "      <script>\n",
              "        const buttonEl =\n",
              "          document.querySelector('#df-e22c465c-4507-4dac-91ee-b5d8718acfd1 button.colab-df-convert');\n",
              "        buttonEl.style.display =\n",
              "          google.colab.kernel.accessAllowed ? 'block' : 'none';\n",
              "\n",
              "        async function convertToInteractive(key) {\n",
              "          const element = document.querySelector('#df-e22c465c-4507-4dac-91ee-b5d8718acfd1');\n",
              "          const dataTable =\n",
              "            await google.colab.kernel.invokeFunction('convertToInteractive',\n",
              "                                                     [key], {});\n",
              "          if (!dataTable) return;\n",
              "\n",
              "          const docLinkHtml = 'Like what you see? Visit the ' +\n",
              "            '<a target=\"_blank\" href=https://colab.research.google.com/notebooks/data_table.ipynb>data table notebook</a>'\n",
              "            + ' to learn more about interactive tables.';\n",
              "          element.innerHTML = '';\n",
              "          dataTable['output_type'] = 'display_data';\n",
              "          await google.colab.output.renderOutput(dataTable, element);\n",
              "          const docLink = document.createElement('div');\n",
              "          docLink.innerHTML = docLinkHtml;\n",
              "          element.appendChild(docLink);\n",
              "        }\n",
              "      </script>\n",
              "    </div>\n",
              "  </div>\n",
              "  "
            ]
          },
          "metadata": {},
          "execution_count": 196
        }
      ]
    },
    {
      "cell_type": "code",
      "source": [
        "#Especificamos el nodo que debera ser el raiz utilizando el algoritmo de arboles porque el dataset tiene mas de 4 nodos o variables\n",
        "est = TreeSearch(data, root_node='SINIESTROS')\n",
        "#En la variable dag contendremos la red bayesiana obtenida por Aprendizaje Estructurado utilizando el estimador de tipo chow-liu\n",
        "dag = est.estimate(estimator_type='chow-liu')\n",
        "#Mostramos el DAG con un layout de tipo spiral\n",
        "pos = nx.spiral_layout(dag)\n",
        "nx.draw(dag, pos=pos, with_labels=True,node_color='b', font_size=7, arrowstyle='fancy', alpha=0.8)\n",
        "#Guardamos el grafo DAG en un archivo .png que podemos visualizar y/o descargar\n",
        "plt.savefig('plt.png')"
      ],
      "metadata": {
        "colab": {
          "base_uri": "https://localhost:8080/",
          "height": 548,
          "referenced_widgets": [
            "77be235dfd5c4b56977aea3105d7ec97",
            "5a4cf9188db14e1db2d58f8c5d8543c6",
            "127b6020cf404e73b04bb0c8955d4e84",
            "a237cf3a2cfb43bf9b9887abcac5e3a5",
            "b46f6def6d2b4659aea7a8f53b88405c",
            "e9358c41075b429ba1fd083b27ad69e2",
            "02526aeb4831477db8200124c9295089",
            "65578436e86e4ff3b9f7d38e4c9c70c5",
            "97647a8c83d448a2bc0b53b92a6a763a",
            "0601530ce03442d3b90bcb22a6ebde90",
            "38fcb4036c324e8585c9ca9548e1c70c"
          ]
        },
        "id": "x1jCQN-MoHO6",
        "outputId": "898a6133-52c0-4dd6-e77b-6b80d872a223"
      },
      "execution_count": 197,
      "outputs": [
        {
          "output_type": "display_data",
          "data": {
            "text/plain": [
              "Building tree:   0%|          | 0/36.0 [00:00<?, ?it/s]"
            ],
            "application/vnd.jupyter.widget-view+json": {
              "version_major": 2,
              "version_minor": 0,
              "model_id": "77be235dfd5c4b56977aea3105d7ec97"
            }
          },
          "metadata": {}
        },
        {
          "output_type": "display_data",
          "data": {
            "text/plain": [
              "<Figure size 640x480 with 1 Axes>"
            ],
            "image/png": "[encoded data removed]"
          },
          "metadata": {}
        }
      ]
    },
    {
      "cell_type": "code",
      "source": [
        "print(\"Nodos: \", dag.nodes())\n",
        "print(\"---------------\")\n",
        "print(\"Aristas: \", dag.edges())\n",
        "\n",
        "print(\"--------\" \"\\n\")\n",
        "\n",
        "print(\"Origen y destino de las Aristas\")\n",
        "print(\"-------------------------------\" \"\\n\")\n",
        "nx.to_pandas_edgelist(dag)"
      ],
      "metadata": {
        "colab": {
          "base_uri": "https://localhost:8080/",
          "height": 459
        },
        "id": "ePgtzmqQqP8n",
        "outputId": "b9f76d5d-5716-4902-fabf-c5358ccaee9e"
      },
      "execution_count": 198,
      "outputs": [
        {
          "output_type": "stream",
          "name": "stdout",
          "text": [
            "Nodos:  ['SINIESTROS', 'INFRACCIONES', 'CLIENTE', 'EDAD_CONDUCTOR', 'RIESGO_UBICACION', 'CATEGORIA_VEHICULO', 'GENERO', 'USO_VEHICULO', 'PRIMA_TECNICA']\n",
            "---------------\n",
            "Aristas:  [('SINIESTROS', 'INFRACCIONES'), ('SINIESTROS', 'CLIENTE'), ('CLIENTE', 'EDAD_CONDUCTOR'), ('CLIENTE', 'RIESGO_UBICACION'), ('RIESGO_UBICACION', 'CATEGORIA_VEHICULO'), ('RIESGO_UBICACION', 'GENERO'), ('CATEGORIA_VEHICULO', 'USO_VEHICULO'), ('CATEGORIA_VEHICULO', 'PRIMA_TECNICA')]\n",
            "--------\n",
            "\n",
            "Origen y destino de las Aristas\n",
            "-------------------------------\n",
            "\n"
          ]
        },
        {
          "output_type": "execute_result",
          "data": {
            "text/plain": [
              "               source              target weight\n",
              "0          SINIESTROS        INFRACCIONES   None\n",
              "1          SINIESTROS             CLIENTE   None\n",
              "2             CLIENTE      EDAD_CONDUCTOR   None\n",
              "3             CLIENTE    RIESGO_UBICACION   None\n",
              "4    RIESGO_UBICACION  CATEGORIA_VEHICULO   None\n",
              "5    RIESGO_UBICACION              GENERO   None\n",
              "6  CATEGORIA_VEHICULO        USO_VEHICULO   None\n",
              "7  CATEGORIA_VEHICULO       PRIMA_TECNICA   None"
            ],
            "text/html": [
              "\n",
              "  <div id=\"df-07bf0f80-469e-4911-a352-15d7a15b5980\">\n",
              "    <div class=\"colab-df-container\">\n",
              "      <div>\n",
              "<style scoped>\n",
              "    .dataframe tbody tr th:only-of-type {\n",
              "        vertical-align: middle;\n",
              "    }\n",
              "\n",
              "    .dataframe tbody tr th {\n",
              "        vertical-align: top;\n",
              "    }\n",
              "\n",
              "    .dataframe thead th {\n",
              "        text-align: right;\n",
              "    }\n",
              "</style>\n",
              "<table border=\"1\" class=\"dataframe\">\n",
              "  <thead>\n",
              "    <tr style=\"text-align: right;\">\n",
              "      <th></th>\n",
              "      <th>source</th>\n",
              "      <th>target</th>\n",
              "      <th>weight</th>\n",
              "    </tr>\n",
              "  </thead>\n",
              "  <tbody>\n",
              "    <tr>\n",
              "      <th>0</th>\n",
              "      <td>SINIESTROS</td>\n",
              "      <td>INFRACCIONES</td>\n",
              "      <td>None</td>\n",
              "    </tr>\n",
              "    <tr>\n",
              "      <th>1</th>\n",
              "      <td>SINIESTROS</td>\n",
              "      <td>CLIENTE</td>\n",
              "      <td>None</td>\n",
              "    </tr>\n",
              "    <tr>\n",
              "      <th>2</th>\n",
              "      <td>CLIENTE</td>\n",
              "      <td>EDAD_CONDUCTOR</td>\n",
              "      <td>None</td>\n",
              "    </tr>\n",
              "    <tr>\n",
              "      <th>3</th>\n",
              "      <td>CLIENTE</td>\n",
              "      <td>RIESGO_UBICACION</td>\n",
              "      <td>None</td>\n",
              "    </tr>\n",
              "    <tr>\n",
              "      <th>4</th>\n",
              "      <td>RIESGO_UBICACION</td>\n",
              "      <td>CATEGORIA_VEHICULO</td>\n",
              "      <td>None</td>\n",
              "    </tr>\n",
              "    <tr>\n",
              "      <th>5</th>\n",
              "      <td>RIESGO_UBICACION</td>\n",
              "      <td>GENERO</td>\n",
              "      <td>None</td>\n",
              "    </tr>\n",
              "    <tr>\n",
              "      <th>6</th>\n",
              "      <td>CATEGORIA_VEHICULO</td>\n",
              "      <td>USO_VEHICULO</td>\n",
              "      <td>None</td>\n",
              "    </tr>\n",
              "    <tr>\n",
              "      <th>7</th>\n",
              "      <td>CATEGORIA_VEHICULO</td>\n",
              "      <td>PRIMA_TECNICA</td>\n",
              "      <td>None</td>\n",
              "    </tr>\n",
              "  </tbody>\n",
              "</table>\n",
              "</div>\n",
              "      <button class=\"colab-df-convert\" onclick=\"convertToInteractive('df-07bf0f80-469e-4911-a352-15d7a15b5980')\"\n",
              "              title=\"Convert this dataframe to an interactive table.\"\n",
              "              style=\"display:none;\">\n",
              "        \n",
              "  <svg xmlns=\"http://www.w3.org/2000/svg\" height=\"24px\"viewBox=\"0 0 24 24\"\n",
              "       width=\"24px\">\n",
              "    <path d=\"M0 0h24v24H0V0z\" fill=\"none\"/>\n",
              "    <path d=\"M18.56 5.44l.94 2.06.94-2.06 2.06-.94-2.06-.94-.94-2.06-.94 2.06-2.06.94zm-11 1L8.5 8.5l.94-2.06 2.06-.94-2.06-.94L8.5 2.5l-.94 2.06-2.06.94zm10 10l.94 2.06.94-2.06 2.06-.94-2.06-.94-.94-2.06-.94 2.06-2.06.94z\"/><path d=\"M17.41 7.96l-1.37-1.37c-.4-.4-.92-.59-1.43-.59-.52 0-1.04.2-1.43.59L10.3 9.45l-7.72 7.72c-.78.78-.78 2.05 0 2.83L4 21.41c.39.39.9.59 1.41.59.51 0 1.02-.2 1.41-.59l7.78-7.78 2.81-2.81c.8-.78.8-2.07 0-2.86zM5.41 20L4 18.59l7.72-7.72 1.47 1.35L5.41 20z\"/>\n",
              "  </svg>\n",
              "      </button>\n",
              "      \n",
              "  <style>\n",
              "    .colab-df-container {\n",
              "      display:flex;\n",
              "      flex-wrap:wrap;\n",
              "      gap: 12px;\n",
              "    }\n",
              "\n",
              "    .colab-df-convert {\n",
              "      background-color: #E8F0FE;\n",
              "      border: none;\n",
              "      border-radius: 50%;\n",
              "      cursor: pointer;\n",
              "      display: none;\n",
              "      fill: #1967D2;\n",
              "      height: 32px;\n",
              "      padding: 0 0 0 0;\n",
              "      width: 32px;\n",
              "    }\n",
              "\n",
              "    .colab-df-convert:hover {\n",
              "      background-color: #E2EBFA;\n",
              "      box-shadow: 0px 1px 2px rgba(60, 64, 67, 0.3), 0px 1px 3px 1px rgba(60, 64, 67, 0.15);\n",
              "      fill: #174EA6;\n",
              "    }\n",
              "\n",
              "    [theme=dark] .colab-df-convert {\n",
              "      background-color: #3B4455;\n",
              "      fill: #D2E3FC;\n",
              "    }\n",
              "\n",
              "    [theme=dark] .colab-df-convert:hover {\n",
              "      background-color: #434B5C;\n",
              "      box-shadow: 0px 1px 3px 1px rgba(0, 0, 0, 0.15);\n",
              "      filter: drop-shadow(0px 1px 2px rgba(0, 0, 0, 0.3));\n",
              "      fill: #FFFFFF;\n",
              "    }\n",
              "  </style>\n",
              "\n",
              "      <script>\n",
              "        const buttonEl =\n",
              "          document.querySelector('#df-07bf0f80-469e-4911-a352-15d7a15b5980 button.colab-df-convert');\n",
              "        buttonEl.style.display =\n",
              "          google.colab.kernel.accessAllowed ? 'block' : 'none';\n",
              "\n",
              "        async function convertToInteractive(key) {\n",
              "          const element = document.querySelector('#df-07bf0f80-469e-4911-a352-15d7a15b5980');\n",
              "          const dataTable =\n",
              "            await google.colab.kernel.invokeFunction('convertToInteractive',\n",
              "                                                     [key], {});\n",
              "          if (!dataTable) return;\n",
              "\n",
              "          const docLinkHtml = 'Like what you see? Visit the ' +\n",
              "            '<a target=\"_blank\" href=https://colab.research.google.com/notebooks/data_table.ipynb>data table notebook</a>'\n",
              "            + ' to learn more about interactive tables.';\n",
              "          element.innerHTML = '';\n",
              "          dataTable['output_type'] = 'display_data';\n",
              "          await google.colab.output.renderOutput(dataTable, element);\n",
              "          const docLink = document.createElement('div');\n",
              "          docLink.innerHTML = docLinkHtml;\n",
              "          element.appendChild(docLink);\n",
              "        }\n",
              "      </script>\n",
              "    </div>\n",
              "  </div>\n",
              "  "
            ]
          },
          "metadata": {},
          "execution_count": 198
        }
      ]
    },
    {
      "cell_type": "markdown",
      "source": [
        "### **5.2. Red Bayesiana**\n",
        "\n",
        "Devuelve la **Estimación de probabilidad condicional** basada en el atributo variable tiempo **(time)** como nodo raíz (lo obtiene desde el Dag generado en la variable **dag**)"
      ],
      "metadata": {
        "id": "0zf20TUfqlkL"
      }
    },
    {
      "cell_type": "code",
      "source": [
        "model = BayesianNetwork(dag)\n",
        "model.fit(data)\n",
        "model.get_cpds()"
      ],
      "metadata": {
        "colab": {
          "base_uri": "https://localhost:8080/"
        },
        "id": "hdw1DV9sqZxJ",
        "outputId": "1a56b6ac-a980-437d-dbfd-46a69fd87fac"
      },
      "execution_count": 199,
      "outputs": [
        {
          "output_type": "execute_result",
          "data": {
            "text/plain": [
              "[<TabularCPD representing P(SINIESTROS:2) at 0x7fdeeaa554b0>,\n",
              " <TabularCPD representing P(INFRACCIONES:2 | SINIESTROS:2) at 0x7fdef1930a60>,\n",
              " <TabularCPD representing P(CLIENTE:2 | SINIESTROS:2) at 0x7fdeeaa54550>,\n",
              " <TabularCPD representing P(EDAD_CONDUCTOR:2 | CLIENTE:2) at 0x7fdef1932410>,\n",
              " <TabularCPD representing P(RIESGO_UBICACION:2 | CLIENTE:2) at 0x7fdeeaa55090>,\n",
              " <TabularCPD representing P(CATEGORIA_VEHICULO:2 | RIESGO_UBICACION:2) at 0x7fdef1932650>,\n",
              " <TabularCPD representing P(GENERO:2 | RIESGO_UBICACION:2) at 0x7fdeeaa56fe0>,\n",
              " <TabularCPD representing P(USO_VEHICULO:2 | CATEGORIA_VEHICULO:2) at 0x7fdeeaa568f0>,\n",
              " <TabularCPD representing P(PRIMA_TECNICA:2 | CATEGORIA_VEHICULO:2) at 0x7fdef19319c0>]"
            ]
          },
          "metadata": {},
          "execution_count": 199
        }
      ]
    },
    {
      "cell_type": "markdown",
      "source": [
        "### Cálculo de Inferencias"
      ],
      "metadata": {
        "id": "vIaoJ6J1qpZi"
      }
    },
    {
      "cell_type": "code",
      "source": [
        "#la variable infer identifica el objeto que ejecutara el algoritmo del calculo de inferencias a partir de la eliminiacion de la variable\n",
        "infer = VariableElimination(model)"
      ],
      "metadata": {
        "id": "Fc7wrzIQqnCz"
      },
      "execution_count": 200,
      "outputs": []
    },
    {
      "cell_type": "code",
      "source": [
        "#Cual es la probabilidad de que un adulto mujer tenga un vehiculo de alta gama\n",
        "q = infer.query(variables=[\"CATEGORIA_VEHICULO\"], evidence={\"GENERO\": 1, \"EDAD_CONDUCTOR\": 1}, joint=False)\n",
        "for factor in q.values():\n",
        "    print(factor)"
      ],
      "metadata": {
        "colab": {
          "base_uri": "https://localhost:8080/"
        },
        "id": "O0LuA6Yzquio",
        "outputId": "119efd56-e392-4458-c598-bb6f22e56da4"
      },
      "execution_count": 201,
      "outputs": [
        {
          "output_type": "stream",
          "name": "stdout",
          "text": [
            "+-----------------------+---------------------------+\n",
            "| CATEGORIA_VEHICULO    |   phi(CATEGORIA_VEHICULO) |\n",
            "+=======================+===========================+\n",
            "| CATEGORIA_VEHICULO(0) |                    0.8812 |\n",
            "+-----------------------+---------------------------+\n",
            "| CATEGORIA_VEHICULO(1) |                    0.1188 |\n",
            "+-----------------------+---------------------------+\n"
          ]
        }
      ]
    },
    {
      "cell_type": "code",
      "source": [
        "#Cual es la probabilidad de que los hombres jovenes tengan alta cantidad de infracciones?\n",
        "q = infer.query(variables=[\"INFRACCIONES\"], evidence={\"GENERO\": 0, \"EDAD_CONDUCTOR\": 0}, joint=False)\n",
        "for factor in q.values():\n",
        "    print(factor)"
      ],
      "metadata": {
        "colab": {
          "base_uri": "https://localhost:8080/"
        },
        "id": "Iq1y3kaMrebp",
        "outputId": "353be0cb-1fea-4a50-aac0-1cde9973cb15"
      },
      "execution_count": 202,
      "outputs": [
        {
          "output_type": "stream",
          "name": "stdout",
          "text": [
            "+-----------------+---------------------+\n",
            "| INFRACCIONES    |   phi(INFRACCIONES) |\n",
            "+=================+=====================+\n",
            "| INFRACCIONES(0) |              0.8302 |\n",
            "+-----------------+---------------------+\n",
            "| INFRACCIONES(1) |              0.1698 |\n",
            "+-----------------+---------------------+\n"
          ]
        }
      ]
    },
    {
      "cell_type": "code",
      "source": [
        "#Cual es la probabilidad de que una persona con edad adulta viva en un lugar de bajos riesgos?\n",
        "q = infer.query(variables=[\"RIESGO_UBICACION\"], evidence={\"EDAD_CONDUCTOR\": 1}, joint=False)\n",
        "for factor in q.values():\n",
        "    print(factor)"
      ],
      "metadata": {
        "colab": {
          "base_uri": "https://localhost:8080/"
        },
        "id": "JLTsY6gSred_",
        "outputId": "b3f9ffe2-f0de-43a7-c7b5-d10841735c08"
      },
      "execution_count": 203,
      "outputs": [
        {
          "output_type": "stream",
          "name": "stdout",
          "text": [
            "+---------------------+-------------------------+\n",
            "| RIESGO_UBICACION    |   phi(RIESGO_UBICACION) |\n",
            "+=====================+=========================+\n",
            "| RIESGO_UBICACION(0) |                  0.7042 |\n",
            "+---------------------+-------------------------+\n",
            "| RIESGO_UBICACION(1) |                  0.2958 |\n",
            "+---------------------+-------------------------+\n"
          ]
        }
      ]
    },
    {
      "cell_type": "code",
      "source": [
        "#Cual es la probabilidad de que las mujeres adultas no tengan siniestros anteriores?\n",
        "q = infer.query(variables=[\"SINIESTROS\"], evidence={\"GENERO\": 1,\"EDAD_CONDUCTOR\": 1}, joint=False)\n",
        "for factor in q.values():\n",
        "    print(factor)"
      ],
      "metadata": {
        "colab": {
          "base_uri": "https://localhost:8080/"
        },
        "id": "L-EE6bZtregr",
        "outputId": "fabd2244-d37c-43f6-b6ed-4b87f8bbae1a"
      },
      "execution_count": 204,
      "outputs": [
        {
          "output_type": "stream",
          "name": "stdout",
          "text": [
            "+---------------+-------------------+\n",
            "| SINIESTROS    |   phi(SINIESTROS) |\n",
            "+===============+===================+\n",
            "| SINIESTROS(0) |            0.8359 |\n",
            "+---------------+-------------------+\n",
            "| SINIESTROS(1) |            0.1641 |\n",
            "+---------------+-------------------+\n"
          ]
        }
      ]
    },
    {
      "cell_type": "code",
      "source": [
        "#Cual es la probabilidad de tener clientes jovenes nuevos?\n",
        "q = infer.query(variables=[\"EDAD_CONDUCTOR\"] ,joint=False)\n",
        "for factor in q.values():\n",
        "    print(factor)"
      ],
      "metadata": {
        "colab": {
          "base_uri": "https://localhost:8080/"
        },
        "id": "dnpv0j_qrei3",
        "outputId": "8bb90adc-18ee-4b09-df53-5f48bd3be555"
      },
      "execution_count": 205,
      "outputs": [
        {
          "output_type": "stream",
          "name": "stdout",
          "text": [
            "+-------------------+-----------------------+\n",
            "| EDAD_CONDUCTOR    |   phi(EDAD_CONDUCTOR) |\n",
            "+===================+=======================+\n",
            "| EDAD_CONDUCTOR(0) |                0.0865 |\n",
            "+-------------------+-----------------------+\n",
            "| EDAD_CONDUCTOR(1) |                0.9135 |\n",
            "+-------------------+-----------------------+\n"
          ]
        }
      ]
    },
    {
      "cell_type": "code",
      "source": [],
      "metadata": {
        "id": "V5FiNwJ-rKL8"
      },
      "execution_count": 205,
      "outputs": []
    }
  ]
}